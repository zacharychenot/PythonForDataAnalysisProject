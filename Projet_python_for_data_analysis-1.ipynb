{
 "cells": [
  {
   "cell_type": "markdown",
   "metadata": {},
   "source": [
    "## Projet python for data analysis\n",
    "Thomas CULINO & Zachary CHENOT\n",
    "\n",
    "#### Data importation"
   ]
  },
  {
   "cell_type": "code",
   "execution_count": 449,
   "metadata": {},
   "outputs": [],
   "source": [
    "import pandas as pd\n",
    "import matplotlib.pyplot as plt\n",
    "import seaborn as sns\n",
    "import bokeh as bk\n",
    "import numpy as np\n",
    "import plotly.offline as py\n",
    "import plotly.graph_objs as go\n",
    "import plotly.offline as py\n",
    "import plotly.express as px"
   ]
  },
  {
   "cell_type": "code",
   "execution_count": 450,
   "metadata": {},
   "outputs": [
    {
     "data": {
      "text/html": [
       "<div>\n",
       "<style scoped>\n",
       "    .dataframe tbody tr th:only-of-type {\n",
       "        vertical-align: middle;\n",
       "    }\n",
       "\n",
       "    .dataframe tbody tr th {\n",
       "        vertical-align: top;\n",
       "    }\n",
       "\n",
       "    .dataframe thead th {\n",
       "        text-align: right;\n",
       "    }\n",
       "</style>\n",
       "<table border=\"1\" class=\"dataframe\">\n",
       "  <thead>\n",
       "    <tr style=\"text-align: right;\">\n",
       "      <th></th>\n",
       "      <th>Gender</th>\n",
       "      <th>Age</th>\n",
       "      <th>Height</th>\n",
       "      <th>Weight</th>\n",
       "      <th>family_history_with_overweight</th>\n",
       "      <th>FAVC</th>\n",
       "      <th>FCVC</th>\n",
       "      <th>NCP</th>\n",
       "      <th>CAEC</th>\n",
       "      <th>SMOKE</th>\n",
       "      <th>CH2O</th>\n",
       "      <th>SCC</th>\n",
       "      <th>FAF</th>\n",
       "      <th>TUE</th>\n",
       "      <th>CALC</th>\n",
       "      <th>MTRANS</th>\n",
       "      <th>NObeyesdad</th>\n",
       "    </tr>\n",
       "  </thead>\n",
       "  <tbody>\n",
       "    <tr>\n",
       "      <th>0</th>\n",
       "      <td>Female</td>\n",
       "      <td>21.0</td>\n",
       "      <td>1.62</td>\n",
       "      <td>64.0</td>\n",
       "      <td>yes</td>\n",
       "      <td>no</td>\n",
       "      <td>2.0</td>\n",
       "      <td>3.0</td>\n",
       "      <td>Sometimes</td>\n",
       "      <td>no</td>\n",
       "      <td>2.0</td>\n",
       "      <td>no</td>\n",
       "      <td>0.0</td>\n",
       "      <td>1.0</td>\n",
       "      <td>no</td>\n",
       "      <td>Public_Transportation</td>\n",
       "      <td>Normal_Weight</td>\n",
       "    </tr>\n",
       "    <tr>\n",
       "      <th>1</th>\n",
       "      <td>Female</td>\n",
       "      <td>21.0</td>\n",
       "      <td>1.52</td>\n",
       "      <td>56.0</td>\n",
       "      <td>yes</td>\n",
       "      <td>no</td>\n",
       "      <td>3.0</td>\n",
       "      <td>3.0</td>\n",
       "      <td>Sometimes</td>\n",
       "      <td>yes</td>\n",
       "      <td>3.0</td>\n",
       "      <td>yes</td>\n",
       "      <td>3.0</td>\n",
       "      <td>0.0</td>\n",
       "      <td>Sometimes</td>\n",
       "      <td>Public_Transportation</td>\n",
       "      <td>Normal_Weight</td>\n",
       "    </tr>\n",
       "    <tr>\n",
       "      <th>2</th>\n",
       "      <td>Male</td>\n",
       "      <td>23.0</td>\n",
       "      <td>1.80</td>\n",
       "      <td>77.0</td>\n",
       "      <td>yes</td>\n",
       "      <td>no</td>\n",
       "      <td>2.0</td>\n",
       "      <td>3.0</td>\n",
       "      <td>Sometimes</td>\n",
       "      <td>no</td>\n",
       "      <td>2.0</td>\n",
       "      <td>no</td>\n",
       "      <td>2.0</td>\n",
       "      <td>1.0</td>\n",
       "      <td>Frequently</td>\n",
       "      <td>Public_Transportation</td>\n",
       "      <td>Normal_Weight</td>\n",
       "    </tr>\n",
       "    <tr>\n",
       "      <th>3</th>\n",
       "      <td>Male</td>\n",
       "      <td>27.0</td>\n",
       "      <td>1.80</td>\n",
       "      <td>87.0</td>\n",
       "      <td>no</td>\n",
       "      <td>no</td>\n",
       "      <td>3.0</td>\n",
       "      <td>3.0</td>\n",
       "      <td>Sometimes</td>\n",
       "      <td>no</td>\n",
       "      <td>2.0</td>\n",
       "      <td>no</td>\n",
       "      <td>2.0</td>\n",
       "      <td>0.0</td>\n",
       "      <td>Frequently</td>\n",
       "      <td>Walking</td>\n",
       "      <td>Overweight_Level_I</td>\n",
       "    </tr>\n",
       "    <tr>\n",
       "      <th>4</th>\n",
       "      <td>Male</td>\n",
       "      <td>22.0</td>\n",
       "      <td>1.78</td>\n",
       "      <td>89.8</td>\n",
       "      <td>no</td>\n",
       "      <td>no</td>\n",
       "      <td>2.0</td>\n",
       "      <td>1.0</td>\n",
       "      <td>Sometimes</td>\n",
       "      <td>no</td>\n",
       "      <td>2.0</td>\n",
       "      <td>no</td>\n",
       "      <td>0.0</td>\n",
       "      <td>0.0</td>\n",
       "      <td>Sometimes</td>\n",
       "      <td>Public_Transportation</td>\n",
       "      <td>Overweight_Level_II</td>\n",
       "    </tr>\n",
       "  </tbody>\n",
       "</table>\n",
       "</div>"
      ],
      "text/plain": [
       "   Gender   Age  Height  Weight family_history_with_overweight FAVC  FCVC  \\\n",
       "0  Female  21.0    1.62    64.0                            yes   no   2.0   \n",
       "1  Female  21.0    1.52    56.0                            yes   no   3.0   \n",
       "2    Male  23.0    1.80    77.0                            yes   no   2.0   \n",
       "3    Male  27.0    1.80    87.0                             no   no   3.0   \n",
       "4    Male  22.0    1.78    89.8                             no   no   2.0   \n",
       "\n",
       "   NCP       CAEC SMOKE  CH2O  SCC  FAF  TUE        CALC  \\\n",
       "0  3.0  Sometimes    no   2.0   no  0.0  1.0          no   \n",
       "1  3.0  Sometimes   yes   3.0  yes  3.0  0.0   Sometimes   \n",
       "2  3.0  Sometimes    no   2.0   no  2.0  1.0  Frequently   \n",
       "3  3.0  Sometimes    no   2.0   no  2.0  0.0  Frequently   \n",
       "4  1.0  Sometimes    no   2.0   no  0.0  0.0   Sometimes   \n",
       "\n",
       "                  MTRANS           NObeyesdad  \n",
       "0  Public_Transportation        Normal_Weight  \n",
       "1  Public_Transportation        Normal_Weight  \n",
       "2  Public_Transportation        Normal_Weight  \n",
       "3                Walking   Overweight_Level_I  \n",
       "4  Public_Transportation  Overweight_Level_II  "
      ]
     },
     "execution_count": 450,
     "metadata": {},
     "output_type": "execute_result"
    }
   ],
   "source": [
    "df = pd.read_csv(\"ObesityDataSet_raw_and_data_sinthetic.csv\")\n",
    "df.head()"
   ]
  },
  {
   "cell_type": "markdown",
   "metadata": {},
   "source": [
    "#### Explaination of each variable \n",
    "\n",
    "**Gender** : gender of the person<br>\n",
    "**Age** : age of the person<br>\n",
    "**Height** : height of the person<br>\n",
    "**Weight** : weight of the person<br>\n",
    "**family_history_with_overweight** : if the person has someone in his family who was in overweight<br>\n",
    "**FAVC** : if the person eats caloric food frequently<br>\n",
    "**FCVC** : if the person eats vegetables in his meals<br>\n",
    "**NCP** : number of meals a day<br>\n",
    "**CAEC** : if the person eats between meals<br>\n",
    "**SMOKE** : if the person smokes<br>\n",
    "**CH2O** : the quantity of water the person drinks daily<br>\n",
    "**SCC** : if the person monitors the calories they eat daily<br>\n",
    "**FAF** : frequence of physical activity in a week<br>\n",
    "**TUE** : how long the person spends daily on technological devices<br>\n",
    "**CALC** : frequency of drinking alcohol<br>\n",
    "**MTRANS** : Means of transport majoritarly used by the person<br>\n",
    "**NObeyesdad** : target variables which corresponds to the BMI (Body Mass Index)<br>"
   ]
  },
  {
   "cell_type": "code",
   "execution_count": 451,
   "metadata": {},
   "outputs": [],
   "source": [
    "#We convert non-quantitative variables to type \"category\"\n",
    "columns = [\"Gender\", \"family_history_with_overweight\", \"FAVC\", \"CAEC\", \"SMOKE\", \"SCC\", \"CALC\", \"MTRANS\", \"NObeyesdad\"]\n",
    "\n",
    "for col in columns:\n",
    "    df[col] = df[col].astype('category')"
   ]
  },
  {
   "cell_type": "code",
   "execution_count": 452,
   "metadata": {},
   "outputs": [
    {
     "data": {
      "text/html": [
       "<div>\n",
       "<style scoped>\n",
       "    .dataframe tbody tr th:only-of-type {\n",
       "        vertical-align: middle;\n",
       "    }\n",
       "\n",
       "    .dataframe tbody tr th {\n",
       "        vertical-align: top;\n",
       "    }\n",
       "\n",
       "    .dataframe thead th {\n",
       "        text-align: right;\n",
       "    }\n",
       "</style>\n",
       "<table border=\"1\" class=\"dataframe\">\n",
       "  <thead>\n",
       "    <tr style=\"text-align: right;\">\n",
       "      <th></th>\n",
       "      <th>Gender</th>\n",
       "      <th>Age</th>\n",
       "      <th>Height</th>\n",
       "      <th>Weight</th>\n",
       "      <th>family_history_with_overweight</th>\n",
       "      <th>FAVC</th>\n",
       "      <th>FCVC</th>\n",
       "      <th>NCP</th>\n",
       "      <th>CAEC</th>\n",
       "      <th>SMOKE</th>\n",
       "      <th>CH2O</th>\n",
       "      <th>SCC</th>\n",
       "      <th>FAF</th>\n",
       "      <th>TUE</th>\n",
       "      <th>CALC</th>\n",
       "      <th>MTRANS</th>\n",
       "      <th>NObeyesdad</th>\n",
       "    </tr>\n",
       "  </thead>\n",
       "  <tbody>\n",
       "    <tr>\n",
       "      <th>0</th>\n",
       "      <td>Female</td>\n",
       "      <td>21.0</td>\n",
       "      <td>1.62</td>\n",
       "      <td>64.0</td>\n",
       "      <td>yes</td>\n",
       "      <td>no</td>\n",
       "      <td>2</td>\n",
       "      <td>3</td>\n",
       "      <td>Sometimes</td>\n",
       "      <td>no</td>\n",
       "      <td>2</td>\n",
       "      <td>no</td>\n",
       "      <td>0</td>\n",
       "      <td>1</td>\n",
       "      <td>no</td>\n",
       "      <td>Public_Transportation</td>\n",
       "      <td>Normal_Weight</td>\n",
       "    </tr>\n",
       "    <tr>\n",
       "      <th>1</th>\n",
       "      <td>Female</td>\n",
       "      <td>21.0</td>\n",
       "      <td>1.52</td>\n",
       "      <td>56.0</td>\n",
       "      <td>yes</td>\n",
       "      <td>no</td>\n",
       "      <td>3</td>\n",
       "      <td>3</td>\n",
       "      <td>Sometimes</td>\n",
       "      <td>yes</td>\n",
       "      <td>3</td>\n",
       "      <td>yes</td>\n",
       "      <td>3</td>\n",
       "      <td>0</td>\n",
       "      <td>Sometimes</td>\n",
       "      <td>Public_Transportation</td>\n",
       "      <td>Normal_Weight</td>\n",
       "    </tr>\n",
       "    <tr>\n",
       "      <th>2</th>\n",
       "      <td>Male</td>\n",
       "      <td>23.0</td>\n",
       "      <td>1.80</td>\n",
       "      <td>77.0</td>\n",
       "      <td>yes</td>\n",
       "      <td>no</td>\n",
       "      <td>2</td>\n",
       "      <td>3</td>\n",
       "      <td>Sometimes</td>\n",
       "      <td>no</td>\n",
       "      <td>2</td>\n",
       "      <td>no</td>\n",
       "      <td>2</td>\n",
       "      <td>1</td>\n",
       "      <td>Frequently</td>\n",
       "      <td>Public_Transportation</td>\n",
       "      <td>Normal_Weight</td>\n",
       "    </tr>\n",
       "    <tr>\n",
       "      <th>3</th>\n",
       "      <td>Male</td>\n",
       "      <td>27.0</td>\n",
       "      <td>1.80</td>\n",
       "      <td>87.0</td>\n",
       "      <td>no</td>\n",
       "      <td>no</td>\n",
       "      <td>3</td>\n",
       "      <td>3</td>\n",
       "      <td>Sometimes</td>\n",
       "      <td>no</td>\n",
       "      <td>2</td>\n",
       "      <td>no</td>\n",
       "      <td>2</td>\n",
       "      <td>0</td>\n",
       "      <td>Frequently</td>\n",
       "      <td>Walking</td>\n",
       "      <td>Overweight_Level_I</td>\n",
       "    </tr>\n",
       "    <tr>\n",
       "      <th>4</th>\n",
       "      <td>Male</td>\n",
       "      <td>22.0</td>\n",
       "      <td>1.78</td>\n",
       "      <td>89.8</td>\n",
       "      <td>no</td>\n",
       "      <td>no</td>\n",
       "      <td>2</td>\n",
       "      <td>1</td>\n",
       "      <td>Sometimes</td>\n",
       "      <td>no</td>\n",
       "      <td>2</td>\n",
       "      <td>no</td>\n",
       "      <td>0</td>\n",
       "      <td>0</td>\n",
       "      <td>Sometimes</td>\n",
       "      <td>Public_Transportation</td>\n",
       "      <td>Overweight_Level_II</td>\n",
       "    </tr>\n",
       "  </tbody>\n",
       "</table>\n",
       "</div>"
      ],
      "text/plain": [
       "   Gender   Age  Height  Weight family_history_with_overweight FAVC  FCVC  \\\n",
       "0  Female  21.0    1.62    64.0                            yes   no     2   \n",
       "1  Female  21.0    1.52    56.0                            yes   no     3   \n",
       "2    Male  23.0    1.80    77.0                            yes   no     2   \n",
       "3    Male  27.0    1.80    87.0                             no   no     3   \n",
       "4    Male  22.0    1.78    89.8                             no   no     2   \n",
       "\n",
       "   NCP       CAEC SMOKE  CH2O  SCC  FAF  TUE        CALC  \\\n",
       "0    3  Sometimes    no     2   no    0    1          no   \n",
       "1    3  Sometimes   yes     3  yes    3    0   Sometimes   \n",
       "2    3  Sometimes    no     2   no    2    1  Frequently   \n",
       "3    3  Sometimes    no     2   no    2    0  Frequently   \n",
       "4    1  Sometimes    no     2   no    0    0   Sometimes   \n",
       "\n",
       "                  MTRANS           NObeyesdad  \n",
       "0  Public_Transportation        Normal_Weight  \n",
       "1  Public_Transportation        Normal_Weight  \n",
       "2  Public_Transportation        Normal_Weight  \n",
       "3                Walking   Overweight_Level_I  \n",
       "4  Public_Transportation  Overweight_Level_II  "
      ]
     },
     "execution_count": 452,
     "metadata": {},
     "output_type": "execute_result"
    }
   ],
   "source": [
    "#On convertit les variables float au int le plus proche\n",
    "columns = [\"FCVC\", \"NCP\", \"CH2O\", \"TUE\", \"FAF\"]\n",
    "\n",
    "for col in columns:\n",
    "    df[col] = round(df[col]).astype('int')  \n",
    "\n",
    "df.head()"
   ]
  },
  {
   "cell_type": "code",
   "execution_count": 453,
   "metadata": {},
   "outputs": [
    {
     "data": {
      "text/plain": [
       "(2111, 17)"
      ]
     },
     "execution_count": 453,
     "metadata": {},
     "output_type": "execute_result"
    }
   ],
   "source": [
    "df.shape"
   ]
  },
  {
   "cell_type": "code",
   "execution_count": 454,
   "metadata": {},
   "outputs": [
    {
     "data": {
      "text/html": [
       "<div>\n",
       "<style scoped>\n",
       "    .dataframe tbody tr th:only-of-type {\n",
       "        vertical-align: middle;\n",
       "    }\n",
       "\n",
       "    .dataframe tbody tr th {\n",
       "        vertical-align: top;\n",
       "    }\n",
       "\n",
       "    .dataframe thead th {\n",
       "        text-align: right;\n",
       "    }\n",
       "</style>\n",
       "<table border=\"1\" class=\"dataframe\">\n",
       "  <thead>\n",
       "    <tr style=\"text-align: right;\">\n",
       "      <th></th>\n",
       "      <th>Age</th>\n",
       "      <th>Height</th>\n",
       "      <th>Weight</th>\n",
       "      <th>FCVC</th>\n",
       "      <th>NCP</th>\n",
       "      <th>CH2O</th>\n",
       "      <th>FAF</th>\n",
       "      <th>TUE</th>\n",
       "    </tr>\n",
       "  </thead>\n",
       "  <tbody>\n",
       "    <tr>\n",
       "      <th>count</th>\n",
       "      <td>2111.000000</td>\n",
       "      <td>2111.000000</td>\n",
       "      <td>2111.000000</td>\n",
       "      <td>2111.000000</td>\n",
       "      <td>2111.000000</td>\n",
       "      <td>2111.000000</td>\n",
       "      <td>2111.000000</td>\n",
       "      <td>2111.000000</td>\n",
       "    </tr>\n",
       "    <tr>\n",
       "      <th>mean</th>\n",
       "      <td>24.312600</td>\n",
       "      <td>1.701677</td>\n",
       "      <td>86.586058</td>\n",
       "      <td>2.423496</td>\n",
       "      <td>2.687826</td>\n",
       "      <td>2.014685</td>\n",
       "      <td>1.006632</td>\n",
       "      <td>0.664614</td>\n",
       "    </tr>\n",
       "    <tr>\n",
       "      <th>std</th>\n",
       "      <td>6.345968</td>\n",
       "      <td>0.093305</td>\n",
       "      <td>26.191172</td>\n",
       "      <td>0.583905</td>\n",
       "      <td>0.809680</td>\n",
       "      <td>0.688616</td>\n",
       "      <td>0.895462</td>\n",
       "      <td>0.674009</td>\n",
       "    </tr>\n",
       "    <tr>\n",
       "      <th>min</th>\n",
       "      <td>14.000000</td>\n",
       "      <td>1.450000</td>\n",
       "      <td>39.000000</td>\n",
       "      <td>1.000000</td>\n",
       "      <td>1.000000</td>\n",
       "      <td>1.000000</td>\n",
       "      <td>0.000000</td>\n",
       "      <td>0.000000</td>\n",
       "    </tr>\n",
       "    <tr>\n",
       "      <th>25%</th>\n",
       "      <td>19.947192</td>\n",
       "      <td>1.630000</td>\n",
       "      <td>65.473343</td>\n",
       "      <td>2.000000</td>\n",
       "      <td>3.000000</td>\n",
       "      <td>2.000000</td>\n",
       "      <td>0.000000</td>\n",
       "      <td>0.000000</td>\n",
       "    </tr>\n",
       "    <tr>\n",
       "      <th>50%</th>\n",
       "      <td>22.777890</td>\n",
       "      <td>1.700499</td>\n",
       "      <td>83.000000</td>\n",
       "      <td>2.000000</td>\n",
       "      <td>3.000000</td>\n",
       "      <td>2.000000</td>\n",
       "      <td>1.000000</td>\n",
       "      <td>1.000000</td>\n",
       "    </tr>\n",
       "    <tr>\n",
       "      <th>75%</th>\n",
       "      <td>26.000000</td>\n",
       "      <td>1.768464</td>\n",
       "      <td>107.430682</td>\n",
       "      <td>3.000000</td>\n",
       "      <td>3.000000</td>\n",
       "      <td>2.000000</td>\n",
       "      <td>2.000000</td>\n",
       "      <td>1.000000</td>\n",
       "    </tr>\n",
       "    <tr>\n",
       "      <th>max</th>\n",
       "      <td>61.000000</td>\n",
       "      <td>1.980000</td>\n",
       "      <td>173.000000</td>\n",
       "      <td>3.000000</td>\n",
       "      <td>4.000000</td>\n",
       "      <td>3.000000</td>\n",
       "      <td>3.000000</td>\n",
       "      <td>2.000000</td>\n",
       "    </tr>\n",
       "  </tbody>\n",
       "</table>\n",
       "</div>"
      ],
      "text/plain": [
       "               Age       Height       Weight         FCVC          NCP  \\\n",
       "count  2111.000000  2111.000000  2111.000000  2111.000000  2111.000000   \n",
       "mean     24.312600     1.701677    86.586058     2.423496     2.687826   \n",
       "std       6.345968     0.093305    26.191172     0.583905     0.809680   \n",
       "min      14.000000     1.450000    39.000000     1.000000     1.000000   \n",
       "25%      19.947192     1.630000    65.473343     2.000000     3.000000   \n",
       "50%      22.777890     1.700499    83.000000     2.000000     3.000000   \n",
       "75%      26.000000     1.768464   107.430682     3.000000     3.000000   \n",
       "max      61.000000     1.980000   173.000000     3.000000     4.000000   \n",
       "\n",
       "              CH2O          FAF          TUE  \n",
       "count  2111.000000  2111.000000  2111.000000  \n",
       "mean      2.014685     1.006632     0.664614  \n",
       "std       0.688616     0.895462     0.674009  \n",
       "min       1.000000     0.000000     0.000000  \n",
       "25%       2.000000     0.000000     0.000000  \n",
       "50%       2.000000     1.000000     1.000000  \n",
       "75%       2.000000     2.000000     1.000000  \n",
       "max       3.000000     3.000000     2.000000  "
      ]
     },
     "execution_count": 454,
     "metadata": {},
     "output_type": "execute_result"
    }
   ],
   "source": [
    "df.describe()"
   ]
  },
  {
   "cell_type": "code",
   "execution_count": 455,
   "metadata": {},
   "outputs": [
    {
     "name": "stdout",
     "output_type": "stream",
     "text": [
      "<class 'pandas.core.frame.DataFrame'>\n",
      "RangeIndex: 2111 entries, 0 to 2110\n",
      "Data columns (total 17 columns):\n",
      "Gender                            2111 non-null category\n",
      "Age                               2111 non-null float64\n",
      "Height                            2111 non-null float64\n",
      "Weight                            2111 non-null float64\n",
      "family_history_with_overweight    2111 non-null category\n",
      "FAVC                              2111 non-null category\n",
      "FCVC                              2111 non-null int32\n",
      "NCP                               2111 non-null int32\n",
      "CAEC                              2111 non-null category\n",
      "SMOKE                             2111 non-null category\n",
      "CH2O                              2111 non-null int32\n",
      "SCC                               2111 non-null category\n",
      "FAF                               2111 non-null int32\n",
      "TUE                               2111 non-null int32\n",
      "CALC                              2111 non-null category\n",
      "MTRANS                            2111 non-null category\n",
      "NObeyesdad                        2111 non-null category\n",
      "dtypes: category(9), float64(3), int32(5)\n",
      "memory usage: 110.7 KB\n"
     ]
    }
   ],
   "source": [
    "df.info()"
   ]
  },
  {
   "cell_type": "markdown",
   "metadata": {},
   "source": [
    "#### Ploting the data"
   ]
  },
  {
   "cell_type": "code",
   "execution_count": 358,
   "metadata": {
    "scrolled": false
   },
   "outputs": [
    {
     "data": {
      "image/png": "[encoded data removed]",
      "text/plain": [
       "<Figure size 432x288 with 1 Axes>"
      ]
     },
     "metadata": {
      "needs_background": "light"
     },
     "output_type": "display_data"
    }
   ],
   "source": [
    "temp = []\n",
    "for elem in df['NObeyesdad']:\n",
    "    temp.append('yes') if 'Obesity' in elem else temp.append('no')\n",
    "\n",
    "df['Obesity'] = temp\n",
    "\n",
    "plt.figure(figsize=(6,4))\n",
    "\n",
    "sns.countplot(x=df['Obesity'], data=df, edgecolor=\"black\")\n",
    "\n",
    "plt.title(\"Number of records of \")\n",
    "plt.show()\n",
    "df = df.drop('Obesity', axis=1)"
   ]
  },
  {
   "cell_type": "code",
   "execution_count": 517,
   "metadata": {},
   "outputs": [
    {
     "data": {
      "application/vnd.plotly.v1+json": {
       "config": {
        "plotlyServerURL": "https://plot.ly"
       },
       "data": [
        {
         "branchvalues": "total",
         "domain": {
          "x": [
           0,
           1
          ],
          "y": [
           0,
           1
          ]
         },
         "hovertemplate": "labels=%{label}<br>count=%{value}<br>parent=%{parent}<br>id=%{id}<extra></extra>",
         "ids": [
          "Insufficient_Weight/Female/no",
          "Normal_Weight/Female/no",
          "Obesity_Type_I/Female/no",
          "Obesity_Type_II/Female/no",
          "Overweight_Level_I/Female/no",
          "Overweight_Level_II/Female/no",
          "Insufficient_Weight/Male/no",
          "Normal_Weight/Male/no",
          "Obesity_Type_I/Male/no",
          "Overweight_Level_I/Male/no",
          "Overweight_Level_II/Male/no",
          "Insufficient_Weight/Female/yes",
          "Normal_Weight/Female/yes",
          "Obesity_Type_I/Female/yes",
          "Obesity_Type_II/Female/yes",
          "Obesity_Type_III/Female/yes",
          "Overweight_Level_I/Female/yes",
          "Overweight_Level_II/Female/yes",
          "Insufficient_Weight/Male/yes",
          "Normal_Weight/Male/yes",
          "Obesity_Type_I/Male/yes",
          "Obesity_Type_II/Male/yes",
          "Obesity_Type_III/Male/yes",
          "Overweight_Level_I/Male/yes",
          "Overweight_Level_II/Male/yes",
          "Insufficient_Weight/Female",
          "Normal_Weight/Female",
          "Obesity_Type_I/Female",
          "Obesity_Type_II/Female",
          "Obesity_Type_III/Female",
          "Overweight_Level_I/Female",
          "Overweight_Level_II/Female",
          "Insufficient_Weight/Male",
          "Normal_Weight/Male",
          "Obesity_Type_I/Male",
          "Obesity_Type_II/Male",
          "Obesity_Type_III/Male",
          "Overweight_Level_I/Male",
          "Overweight_Level_II/Male",
          "Insufficient_Weight",
          "Normal_Weight",
          "Obesity_Type_I",
          "Obesity_Type_II",
          "Obesity_Type_III",
          "Overweight_Level_I",
          "Overweight_Level_II"
         ],
         "labels": [
          "no",
          "no",
          "no",
          "no",
          "no",
          "no",
          "no",
          "no",
          "no",
          "no",
          "no",
          "yes",
          "yes",
          "yes",
          "yes",
          "yes",
          "yes",
          "yes",
          "yes",
          "yes",
          "yes",
          "yes",
          "yes",
          "yes",
          "yes",
          "Female",
          "Female",
          "Female",
          "Female",
          "Female",
          "Female",
          "Female",
          "Male",
          "Male",
          "Male",
          "Male",
          "Male",
          "Male",
          "Male",
          "Insufficient_Weight",
          "Normal_Weight",
          "Obesity_Type_I",
          "Obesity_Type_II",
          "Obesity_Type_III",
          "Overweight_Level_I",
          "Overweight_Level_II"
         ],
         "name": "",
         "parents": [
          "Insufficient_Weight/Female",
          "Normal_Weight/Female",
          "Obesity_Type_I/Female",
          "Obesity_Type_II/Female",
          "Overweight_Level_I/Female",
          "Overweight_Level_II/Female",
          "Insufficient_Weight/Male",
          "Normal_Weight/Male",
          "Obesity_Type_I/Male",
          "Overweight_Level_I/Male",
          "Overweight_Level_II/Male",
          "Insufficient_Weight/Female",
          "Normal_Weight/Female",
          "Obesity_Type_I/Female",
          "Obesity_Type_II/Female",
          "Obesity_Type_III/Female",
          "Overweight_Level_I/Female",
          "Overweight_Level_II/Female",
          "Insufficient_Weight/Male",
          "Normal_Weight/Male",
          "Obesity_Type_I/Male",
          "Obesity_Type_II/Male",
          "Obesity_Type_III/Male",
          "Overweight_Level_I/Male",
          "Overweight_Level_II/Male",
          "Insufficient_Weight",
          "Normal_Weight",
          "Obesity_Type_I",
          "Obesity_Type_II",
          "Obesity_Type_III",
          "Overweight_Level_I",
          "Overweight_Level_II",
          "Insufficient_Weight",
          "Normal_Weight",
          "Obesity_Type_I",
          "Obesity_Type_II",
          "Obesity_Type_III",
          "Overweight_Level_I",
          "Overweight_Level_II",
          "",
          "",
          "",
          "",
          "",
          "",
          ""
         ],
         "type": "sunburst",
         "values": [
          129,
          65,
          1,
          1,
          34,
          2,
          17,
          67,
          6,
          47,
          16,
          44,
          76,
          155,
          1,
          323,
          111,
          101,
          82,
          79,
          189,
          295,
          1,
          98,
          171,
          173,
          141,
          156,
          2,
          323,
          145,
          103,
          99,
          146,
          195,
          295,
          1,
          145,
          187,
          272,
          287,
          351,
          297,
          324,
          290,
          290
         ]
        }
       ],
       "layout": {
        "legend": {
         "tracegroupgap": 0
        },
        "margin": {
         "t": 60
        },
        "template": {
         "data": {
          "bar": [
           {
            "error_x": {
             "color": "#2a3f5f"
            },
            "error_y": {
             "color": "#2a3f5f"
            },
            "marker": {
             "line": {
              "color": "#E5ECF6",
              "width": 0.5
             }
            },
            "type": "bar"
           }
          ],
          "barpolar": [
           {
            "marker": {
             "line": {
              "color": "#E5ECF6",
              "width": 0.5
             }
            },
            "type": "barpolar"
           }
          ],
          "carpet": [
           {
            "aaxis": {
             "endlinecolor": "#2a3f5f",
             "gridcolor": "white",
             "linecolor": "white",
             "minorgridcolor": "white",
             "startlinecolor": "#2a3f5f"
            },
            "baxis": {
             "endlinecolor": "#2a3f5f",
             "gridcolor": "white",
             "linecolor": "white",
             "minorgridcolor": "white",
             "startlinecolor": "#2a3f5f"
            },
            "type": "carpet"
           }
          ],
          "choropleth": [
           {
            "colorbar": {
             "outlinewidth": 0,
             "ticks": ""
            },
            "type": "choropleth"
           }
          ],
          "contour": [
           {
            "colorbar": {
             "outlinewidth": 0,
             "ticks": ""
            },
            "colorscale": [
             [
              0,
              "#0d0887"
             ],
             [
              0.1111111111111111,
              "#46039f"
             ],
             [
              0.2222222222222222,
              "#7201a8"
             ],
             [
              0.3333333333333333,
              "#9c179e"
             ],
             [
              0.4444444444444444,
              "#bd3786"
             ],
             [
              0.5555555555555556,
              "#d8576b"
             ],
             [
              0.6666666666666666,
              "#ed7953"
             ],
             [
              0.7777777777777778,
              "#fb9f3a"
             ],
             [
              0.8888888888888888,
              "#fdca26"
             ],
             [
              1,
              "#f0f921"
             ]
            ],
            "type": "contour"
           }
          ],
          "contourcarpet": [
           {
            "colorbar": {
             "outlinewidth": 0,
             "ticks": ""
            },
            "type": "contourcarpet"
           }
          ],
          "heatmap": [
           {
            "colorbar": {
             "outlinewidth": 0,
             "ticks": ""
            },
            "colorscale": [
             [
              0,
              "#0d0887"
             ],
             [
              0.1111111111111111,
              "#46039f"
             ],
             [
              0.2222222222222222,
              "#7201a8"
             ],
             [
              0.3333333333333333,
              "#9c179e"
             ],
             [
              0.4444444444444444,
              "#bd3786"
             ],
             [
              0.5555555555555556,
              "#d8576b"
             ],
             [
              0.6666666666666666,
              "#ed7953"
             ],
             [
              0.7777777777777778,
              "#fb9f3a"
             ],
             [
              0.8888888888888888,
              "#fdca26"
             ],
             [
              1,
              "#f0f921"
             ]
            ],
            "type": "heatmap"
           }
          ],
          "heatmapgl": [
           {
            "colorbar": {
             "outlinewidth": 0,
             "ticks": ""
            },
            "colorscale": [
             [
              0,
              "#0d0887"
             ],
             [
              0.1111111111111111,
              "#46039f"
             ],
             [
              0.2222222222222222,
              "#7201a8"
             ],
             [
              0.3333333333333333,
              "#9c179e"
             ],
             [
              0.4444444444444444,
              "#bd3786"
             ],
             [
              0.5555555555555556,
              "#d8576b"
             ],
             [
              0.6666666666666666,
              "#ed7953"
             ],
             [
              0.7777777777777778,
              "#fb9f3a"
             ],
             [
              0.8888888888888888,
              "#fdca26"
             ],
             [
              1,
              "#f0f921"
             ]
            ],
            "type": "heatmapgl"
           }
          ],
          "histogram": [
           {
            "marker": {
             "colorbar": {
              "outlinewidth": 0,
              "ticks": ""
             }
            },
            "type": "histogram"
           }
          ],
          "histogram2d": [
           {
            "colorbar": {
             "outlinewidth": 0,
             "ticks": ""
            },
            "colorscale": [
             [
              0,
              "#0d0887"
             ],
             [
              0.1111111111111111,
              "#46039f"
             ],
             [
              0.2222222222222222,
              "#7201a8"
             ],
             [
              0.3333333333333333,
              "#9c179e"
             ],
             [
              0.4444444444444444,
              "#bd3786"
             ],
             [
              0.5555555555555556,
              "#d8576b"
             ],
             [
              0.6666666666666666,
              "#ed7953"
             ],
             [
              0.7777777777777778,
              "#fb9f3a"
             ],
             [
              0.8888888888888888,
              "#fdca26"
             ],
             [
              1,
              "#f0f921"
             ]
            ],
            "type": "histogram2d"
           }
          ],
          "histogram2dcontour": [
           {
            "colorbar": {
             "outlinewidth": 0,
             "ticks": ""
            },
            "colorscale": [
             [
              0,
              "#0d0887"
             ],
             [
              0.1111111111111111,
              "#46039f"
             ],
             [
              0.2222222222222222,
              "#7201a8"
             ],
             [
              0.3333333333333333,
              "#9c179e"
             ],
             [
              0.4444444444444444,
              "#bd3786"
             ],
             [
              0.5555555555555556,
              "#d8576b"
             ],
             [
              0.6666666666666666,
              "#ed7953"
             ],
             [
              0.7777777777777778,
              "#fb9f3a"
             ],
             [
              0.8888888888888888,
              "#fdca26"
             ],
             [
              1,
              "#f0f921"
             ]
            ],
            "type": "histogram2dcontour"
           }
          ],
          "mesh3d": [
           {
            "colorbar": {
             "outlinewidth": 0,
             "ticks": ""
            },
            "type": "mesh3d"
           }
          ],
          "parcoords": [
           {
            "line": {
             "colorbar": {
              "outlinewidth": 0,
              "ticks": ""
             }
            },
            "type": "parcoords"
           }
          ],
          "pie": [
           {
            "automargin": true,
            "type": "pie"
           }
          ],
          "scatter": [
           {
            "marker": {
             "colorbar": {
              "outlinewidth": 0,
              "ticks": ""
             }
            },
            "type": "scatter"
           }
          ],
          "scatter3d": [
           {
            "line": {
             "colorbar": {
              "outlinewidth": 0,
              "ticks": ""
             }
            },
            "marker": {
             "colorbar": {
              "outlinewidth": 0,
              "ticks": ""
             }
            },
            "type": "scatter3d"
           }
          ],
          "scattercarpet": [
           {
            "marker": {
             "colorbar": {
              "outlinewidth": 0,
              "ticks": ""
             }
            },
            "type": "scattercarpet"
           }
          ],
          "scattergeo": [
           {
            "marker": {
             "colorbar": {
              "outlinewidth": 0,
              "ticks": ""
             }
            },
            "type": "scattergeo"
           }
          ],
          "scattergl": [
           {
            "marker": {
             "colorbar": {
              "outlinewidth": 0,
              "ticks": ""
             }
            },
            "type": "scattergl"
           }
          ],
          "scattermapbox": [
           {
            "marker": {
             "colorbar": {
              "outlinewidth": 0,
              "ticks": ""
             }
            },
            "type": "scattermapbox"
           }
          ],
          "scatterpolar": [
           {
            "marker": {
             "colorbar": {
              "outlinewidth": 0,
              "ticks": ""
             }
            },
            "type": "scatterpolar"
           }
          ],
          "scatterpolargl": [
           {
            "marker": {
             "colorbar": {
              "outlinewidth": 0,
              "ticks": ""
             }
            },
            "type": "scatterpolargl"
           }
          ],
          "scatterternary": [
           {
            "marker": {
             "colorbar": {
              "outlinewidth": 0,
              "ticks": ""
             }
            },
            "type": "scatterternary"
           }
          ],
          "surface": [
           {
            "colorbar": {
             "outlinewidth": 0,
             "ticks": ""
            },
            "colorscale": [
             [
              0,
              "#0d0887"
             ],
             [
              0.1111111111111111,
              "#46039f"
             ],
             [
              0.2222222222222222,
              "#7201a8"
             ],
             [
              0.3333333333333333,
              "#9c179e"
             ],
             [
              0.4444444444444444,
              "#bd3786"
             ],
             [
              0.5555555555555556,
              "#d8576b"
             ],
             [
              0.6666666666666666,
              "#ed7953"
             ],
             [
              0.7777777777777778,
              "#fb9f3a"
             ],
             [
              0.8888888888888888,
              "#fdca26"
             ],
             [
              1,
              "#f0f921"
             ]
            ],
            "type": "surface"
           }
          ],
          "table": [
           {
            "cells": {
             "fill": {
              "color": "#EBF0F8"
             },
             "line": {
              "color": "white"
             }
            },
            "header": {
             "fill": {
              "color": "#C8D4E3"
             },
             "line": {
              "color": "white"
             }
            },
            "type": "table"
           }
          ]
         },
         "layout": {
          "annotationdefaults": {
           "arrowcolor": "#2a3f5f",
           "arrowhead": 0,
           "arrowwidth": 1
          },
          "autotypenumbers": "strict",
          "coloraxis": {
           "colorbar": {
            "outlinewidth": 0,
            "ticks": ""
           }
          },
          "colorscale": {
           "diverging": [
            [
             0,
             "#8e0152"
            ],
            [
             0.1,
             "#c51b7d"
            ],
            [
             0.2,
             "#de77ae"
            ],
            [
             0.3,
             "#f1b6da"
            ],
            [
             0.4,
             "#fde0ef"
            ],
            [
             0.5,
             "#f7f7f7"
            ],
            [
             0.6,
             "#e6f5d0"
            ],
            [
             0.7,
             "#b8e186"
            ],
            [
             0.8,
             "#7fbc41"
            ],
            [
             0.9,
             "#4d9221"
            ],
            [
             1,
             "#276419"
            ]
           ],
           "sequential": [
            [
             0,
             "#0d0887"
            ],
            [
             0.1111111111111111,
             "#46039f"
            ],
            [
             0.2222222222222222,
             "#7201a8"
            ],
            [
             0.3333333333333333,
             "#9c179e"
            ],
            [
             0.4444444444444444,
             "#bd3786"
            ],
            [
             0.5555555555555556,
             "#d8576b"
            ],
            [
             0.6666666666666666,
             "#ed7953"
            ],
            [
             0.7777777777777778,
             "#fb9f3a"
            ],
            [
             0.8888888888888888,
             "#fdca26"
            ],
            [
             1,
             "#f0f921"
            ]
           ],
           "sequentialminus": [
            [
             0,
             "#0d0887"
            ],
            [
             0.1111111111111111,
             "#46039f"
            ],
            [
             0.2222222222222222,
             "#7201a8"
            ],
            [
             0.3333333333333333,
             "#9c179e"
            ],
            [
             0.4444444444444444,
             "#bd3786"
            ],
            [
             0.5555555555555556,
             "#d8576b"
            ],
            [
             0.6666666666666666,
             "#ed7953"
            ],
            [
             0.7777777777777778,
             "#fb9f3a"
            ],
            [
             0.8888888888888888,
             "#fdca26"
            ],
            [
             1,
             "#f0f921"
            ]
           ]
          },
          "colorway": [
           "#636efa",
           "#EF553B",
           "#00cc96",
           "#ab63fa",
           "#FFA15A",
           "#19d3f3",
           "#FF6692",
           "#B6E880",
           "#FF97FF",
           "#FECB52"
          ],
          "font": {
           "color": "#2a3f5f"
          },
          "geo": {
           "bgcolor": "white",
           "lakecolor": "white",
           "landcolor": "#E5ECF6",
           "showlakes": true,
           "showland": true,
           "subunitcolor": "white"
          },
          "hoverlabel": {
           "align": "left"
          },
          "hovermode": "closest",
          "mapbox": {
           "style": "light"
          },
          "paper_bgcolor": "white",
          "plot_bgcolor": "#E5ECF6",
          "polar": {
           "angularaxis": {
            "gridcolor": "white",
            "linecolor": "white",
            "ticks": ""
           },
           "bgcolor": "#E5ECF6",
           "radialaxis": {
            "gridcolor": "white",
            "linecolor": "white",
            "ticks": ""
           }
          },
          "scene": {
           "xaxis": {
            "backgroundcolor": "#E5ECF6",
            "gridcolor": "white",
            "gridwidth": 2,
            "linecolor": "white",
            "showbackground": true,
            "ticks": "",
            "zerolinecolor": "white"
           },
           "yaxis": {
            "backgroundcolor": "#E5ECF6",
            "gridcolor": "white",
            "gridwidth": 2,
            "linecolor": "white",
            "showbackground": true,
            "ticks": "",
            "zerolinecolor": "white"
           },
           "zaxis": {
            "backgroundcolor": "#E5ECF6",
            "gridcolor": "white",
            "gridwidth": 2,
            "linecolor": "white",
            "showbackground": true,
            "ticks": "",
            "zerolinecolor": "white"
           }
          },
          "shapedefaults": {
           "line": {
            "color": "#2a3f5f"
           }
          },
          "ternary": {
           "aaxis": {
            "gridcolor": "white",
            "linecolor": "white",
            "ticks": ""
           },
           "baxis": {
            "gridcolor": "white",
            "linecolor": "white",
            "ticks": ""
           },
           "bgcolor": "#E5ECF6",
           "caxis": {
            "gridcolor": "white",
            "linecolor": "white",
            "ticks": ""
           }
          },
          "title": {
           "x": 0.05
          },
          "xaxis": {
           "automargin": true,
           "gridcolor": "white",
           "linecolor": "white",
           "ticks": "",
           "title": {
            "standoff": 15
           },
           "zerolinecolor": "white",
           "zerolinewidth": 2
          },
          "yaxis": {
           "automargin": true,
           "gridcolor": "white",
           "linecolor": "white",
           "ticks": "",
           "title": {
            "standoff": 15
           },
           "zerolinecolor": "white",
           "zerolinewidth": 2
          }
         }
        }
       }
      },
      "text/html": [
       "<div>                            <div id=\"29402237-d686-469b-9d5a-3656dea52ede\" class=\"plotly-graph-div\" style=\"height:525px; width:100%;\"></div>            <script type=\"text/javascript\">                require([\"plotly\"], function(Plotly) {                    window.PLOTLYENV=window.PLOTLYENV || {};                                    if (document.getElementById(\"29402237-d686-469b-9d5a-3656dea52ede\")) {                    Plotly.newPlot(                        \"29402237-d686-469b-9d5a-3656dea52ede\",                        [{\"branchvalues\": \"total\", \"domain\": {\"x\": [0.0, 1.0], \"y\": [0.0, 1.0]}, \"hovertemplate\": \"labels=%{label}<br>count=%{value}<br>parent=%{parent}<br>id=%{id}<extra></extra>\", \"ids\": [\"Insufficient_Weight/Female/no\", \"Normal_Weight/Female/no\", \"Obesity_Type_I/Female/no\", \"Obesity_Type_II/Female/no\", \"Overweight_Level_I/Female/no\", \"Overweight_Level_II/Female/no\", \"Insufficient_Weight/Male/no\", \"Normal_Weight/Male/no\", \"Obesity_Type_I/Male/no\", \"Overweight_Level_I/Male/no\", \"Overweight_Level_II/Male/no\", \"Insufficient_Weight/Female/yes\", \"Normal_Weight/Female/yes\", \"Obesity_Type_I/Female/yes\", \"Obesity_Type_II/Female/yes\", \"Obesity_Type_III/Female/yes\", \"Overweight_Level_I/Female/yes\", \"Overweight_Level_II/Female/yes\", \"Insufficient_Weight/Male/yes\", \"Normal_Weight/Male/yes\", \"Obesity_Type_I/Male/yes\", \"Obesity_Type_II/Male/yes\", \"Obesity_Type_III/Male/yes\", \"Overweight_Level_I/Male/yes\", \"Overweight_Level_II/Male/yes\", \"Insufficient_Weight/Female\", \"Normal_Weight/Female\", \"Obesity_Type_I/Female\", \"Obesity_Type_II/Female\", \"Obesity_Type_III/Female\", \"Overweight_Level_I/Female\", \"Overweight_Level_II/Female\", \"Insufficient_Weight/Male\", \"Normal_Weight/Male\", \"Obesity_Type_I/Male\", \"Obesity_Type_II/Male\", \"Obesity_Type_III/Male\", \"Overweight_Level_I/Male\", \"Overweight_Level_II/Male\", \"Insufficient_Weight\", \"Normal_Weight\", \"Obesity_Type_I\", \"Obesity_Type_II\", \"Obesity_Type_III\", \"Overweight_Level_I\", \"Overweight_Level_II\"], \"labels\": [\"no\", \"no\", \"no\", \"no\", \"no\", \"no\", \"no\", \"no\", \"no\", \"no\", \"no\", \"yes\", \"yes\", \"yes\", \"yes\", \"yes\", \"yes\", \"yes\", \"yes\", \"yes\", \"yes\", \"yes\", \"yes\", \"yes\", \"yes\", \"Female\", \"Female\", \"Female\", \"Female\", \"Female\", \"Female\", \"Female\", \"Male\", \"Male\", \"Male\", \"Male\", \"Male\", \"Male\", \"Male\", \"Insufficient_Weight\", \"Normal_Weight\", \"Obesity_Type_I\", \"Obesity_Type_II\", \"Obesity_Type_III\", \"Overweight_Level_I\", \"Overweight_Level_II\"], \"name\": \"\", \"parents\": [\"Insufficient_Weight/Female\", \"Normal_Weight/Female\", \"Obesity_Type_I/Female\", \"Obesity_Type_II/Female\", \"Overweight_Level_I/Female\", \"Overweight_Level_II/Female\", \"Insufficient_Weight/Male\", \"Normal_Weight/Male\", \"Obesity_Type_I/Male\", \"Overweight_Level_I/Male\", \"Overweight_Level_II/Male\", \"Insufficient_Weight/Female\", \"Normal_Weight/Female\", \"Obesity_Type_I/Female\", \"Obesity_Type_II/Female\", \"Obesity_Type_III/Female\", \"Overweight_Level_I/Female\", \"Overweight_Level_II/Female\", \"Insufficient_Weight/Male\", \"Normal_Weight/Male\", \"Obesity_Type_I/Male\", \"Obesity_Type_II/Male\", \"Obesity_Type_III/Male\", \"Overweight_Level_I/Male\", \"Overweight_Level_II/Male\", \"Insufficient_Weight\", \"Normal_Weight\", \"Obesity_Type_I\", \"Obesity_Type_II\", \"Obesity_Type_III\", \"Overweight_Level_I\", \"Overweight_Level_II\", \"Insufficient_Weight\", \"Normal_Weight\", \"Obesity_Type_I\", \"Obesity_Type_II\", \"Obesity_Type_III\", \"Overweight_Level_I\", \"Overweight_Level_II\", \"\", \"\", \"\", \"\", \"\", \"\", \"\"], \"type\": \"sunburst\", \"values\": [129, 65, 1, 1, 34, 2, 17, 67, 6, 47, 16, 44, 76, 155, 1, 323, 111, 101, 82, 79, 189, 295, 1, 98, 171, 173, 141, 156, 2, 323, 145, 103, 99, 146, 195, 295, 1, 145, 187, 272, 287, 351, 297, 324, 290, 290]}],                        {\"legend\": {\"tracegroupgap\": 0}, \"margin\": {\"t\": 60}, \"template\": {\"data\": {\"bar\": [{\"error_x\": {\"color\": \"#2a3f5f\"}, \"error_y\": {\"color\": \"#2a3f5f\"}, \"marker\": {\"line\": {\"color\": \"#E5ECF6\", \"width\": 0.5}}, \"type\": \"bar\"}], \"barpolar\": [{\"marker\": {\"line\": {\"color\": \"#E5ECF6\", \"width\": 0.5}}, \"type\": \"barpolar\"}], \"carpet\": [{\"aaxis\": {\"endlinecolor\": \"#2a3f5f\", \"gridcolor\": \"white\", \"linecolor\": \"white\", \"minorgridcolor\": \"white\", \"startlinecolor\": \"#2a3f5f\"}, \"baxis\": {\"endlinecolor\": \"#2a3f5f\", \"gridcolor\": \"white\", \"linecolor\": \"white\", \"minorgridcolor\": \"white\", \"startlinecolor\": \"#2a3f5f\"}, \"type\": \"carpet\"}], \"choropleth\": [{\"colorbar\": {\"outlinewidth\": 0, \"ticks\": \"\"}, \"type\": \"choropleth\"}], \"contour\": [{\"colorbar\": {\"outlinewidth\": 0, \"ticks\": \"\"}, \"colorscale\": [[0.0, \"#0d0887\"], [0.1111111111111111, \"#46039f\"], [0.2222222222222222, \"#7201a8\"], [0.3333333333333333, \"#9c179e\"], [0.4444444444444444, \"#bd3786\"], [0.5555555555555556, \"#d8576b\"], [0.6666666666666666, \"#ed7953\"], [0.7777777777777778, \"#fb9f3a\"], [0.8888888888888888, \"#fdca26\"], [1.0, \"#f0f921\"]], \"type\": \"contour\"}], \"contourcarpet\": [{\"colorbar\": {\"outlinewidth\": 0, \"ticks\": \"\"}, \"type\": \"contourcarpet\"}], \"heatmap\": [{\"colorbar\": {\"outlinewidth\": 0, \"ticks\": \"\"}, \"colorscale\": [[0.0, \"#0d0887\"], [0.1111111111111111, \"#46039f\"], [0.2222222222222222, \"#7201a8\"], [0.3333333333333333, \"#9c179e\"], [0.4444444444444444, \"#bd3786\"], [0.5555555555555556, \"#d8576b\"], [0.6666666666666666, \"#ed7953\"], [0.7777777777777778, \"#fb9f3a\"], [0.8888888888888888, \"#fdca26\"], [1.0, \"#f0f921\"]], \"type\": \"heatmap\"}], \"heatmapgl\": [{\"colorbar\": {\"outlinewidth\": 0, \"ticks\": \"\"}, \"colorscale\": [[0.0, \"#0d0887\"], [0.1111111111111111, \"#46039f\"], [0.2222222222222222, \"#7201a8\"], [0.3333333333333333, \"#9c179e\"], [0.4444444444444444, \"#bd3786\"], [0.5555555555555556, \"#d8576b\"], [0.6666666666666666, \"#ed7953\"], [0.7777777777777778, \"#fb9f3a\"], [0.8888888888888888, \"#fdca26\"], [1.0, \"#f0f921\"]], \"type\": \"heatmapgl\"}], \"histogram\": [{\"marker\": {\"colorbar\": {\"outlinewidth\": 0, \"ticks\": \"\"}}, \"type\": \"histogram\"}], \"histogram2d\": [{\"colorbar\": {\"outlinewidth\": 0, \"ticks\": \"\"}, \"colorscale\": [[0.0, \"#0d0887\"], [0.1111111111111111, \"#46039f\"], [0.2222222222222222, \"#7201a8\"], [0.3333333333333333, \"#9c179e\"], [0.4444444444444444, \"#bd3786\"], [0.5555555555555556, \"#d8576b\"], [0.6666666666666666, \"#ed7953\"], [0.7777777777777778, \"#fb9f3a\"], [0.8888888888888888, \"#fdca26\"], [1.0, \"#f0f921\"]], \"type\": \"histogram2d\"}], \"histogram2dcontour\": [{\"colorbar\": {\"outlinewidth\": 0, \"ticks\": \"\"}, \"colorscale\": [[0.0, \"#0d0887\"], [0.1111111111111111, \"#46039f\"], [0.2222222222222222, \"#7201a8\"], [0.3333333333333333, \"#9c179e\"], [0.4444444444444444, \"#bd3786\"], [0.5555555555555556, \"#d8576b\"], [0.6666666666666666, \"#ed7953\"], [0.7777777777777778, \"#fb9f3a\"], [0.8888888888888888, \"#fdca26\"], [1.0, \"#f0f921\"]], \"type\": \"histogram2dcontour\"}], \"mesh3d\": [{\"colorbar\": {\"outlinewidth\": 0, \"ticks\": \"\"}, \"type\": \"mesh3d\"}], \"parcoords\": [{\"line\": {\"colorbar\": {\"outlinewidth\": 0, \"ticks\": \"\"}}, \"type\": \"parcoords\"}], \"pie\": [{\"automargin\": true, \"type\": \"pie\"}], \"scatter\": [{\"marker\": {\"colorbar\": {\"outlinewidth\": 0, \"ticks\": \"\"}}, \"type\": \"scatter\"}], \"scatter3d\": [{\"line\": {\"colorbar\": {\"outlinewidth\": 0, \"ticks\": \"\"}}, \"marker\": {\"colorbar\": {\"outlinewidth\": 0, \"ticks\": \"\"}}, \"type\": \"scatter3d\"}], \"scattercarpet\": [{\"marker\": {\"colorbar\": {\"outlinewidth\": 0, \"ticks\": \"\"}}, \"type\": \"scattercarpet\"}], \"scattergeo\": [{\"marker\": {\"colorbar\": {\"outlinewidth\": 0, \"ticks\": \"\"}}, \"type\": \"scattergeo\"}], \"scattergl\": [{\"marker\": {\"colorbar\": {\"outlinewidth\": 0, \"ticks\": \"\"}}, \"type\": \"scattergl\"}], \"scattermapbox\": [{\"marker\": {\"colorbar\": {\"outlinewidth\": 0, \"ticks\": \"\"}}, \"type\": \"scattermapbox\"}], \"scatterpolar\": [{\"marker\": {\"colorbar\": {\"outlinewidth\": 0, \"ticks\": \"\"}}, \"type\": \"scatterpolar\"}], \"scatterpolargl\": [{\"marker\": {\"colorbar\": {\"outlinewidth\": 0, \"ticks\": \"\"}}, \"type\": \"scatterpolargl\"}], \"scatterternary\": [{\"marker\": {\"colorbar\": {\"outlinewidth\": 0, \"ticks\": \"\"}}, \"type\": \"scatterternary\"}], \"surface\": [{\"colorbar\": {\"outlinewidth\": 0, \"ticks\": \"\"}, \"colorscale\": [[0.0, \"#0d0887\"], [0.1111111111111111, \"#46039f\"], [0.2222222222222222, \"#7201a8\"], [0.3333333333333333, \"#9c179e\"], [0.4444444444444444, \"#bd3786\"], [0.5555555555555556, \"#d8576b\"], [0.6666666666666666, \"#ed7953\"], [0.7777777777777778, \"#fb9f3a\"], [0.8888888888888888, \"#fdca26\"], [1.0, \"#f0f921\"]], \"type\": \"surface\"}], \"table\": [{\"cells\": {\"fill\": {\"color\": \"#EBF0F8\"}, \"line\": {\"color\": \"white\"}}, \"header\": {\"fill\": {\"color\": \"#C8D4E3\"}, \"line\": {\"color\": \"white\"}}, \"type\": \"table\"}]}, \"layout\": {\"annotationdefaults\": {\"arrowcolor\": \"#2a3f5f\", \"arrowhead\": 0, \"arrowwidth\": 1}, \"autotypenumbers\": \"strict\", \"coloraxis\": {\"colorbar\": {\"outlinewidth\": 0, \"ticks\": \"\"}}, \"colorscale\": {\"diverging\": [[0, \"#8e0152\"], [0.1, \"#c51b7d\"], [0.2, \"#de77ae\"], [0.3, \"#f1b6da\"], [0.4, \"#fde0ef\"], [0.5, \"#f7f7f7\"], [0.6, \"#e6f5d0\"], [0.7, \"#b8e186\"], [0.8, \"#7fbc41\"], [0.9, \"#4d9221\"], [1, \"#276419\"]], \"sequential\": [[0.0, \"#0d0887\"], [0.1111111111111111, \"#46039f\"], [0.2222222222222222, \"#7201a8\"], [0.3333333333333333, \"#9c179e\"], [0.4444444444444444, \"#bd3786\"], [0.5555555555555556, \"#d8576b\"], [0.6666666666666666, \"#ed7953\"], [0.7777777777777778, \"#fb9f3a\"], [0.8888888888888888, \"#fdca26\"], [1.0, \"#f0f921\"]], \"sequentialminus\": [[0.0, \"#0d0887\"], [0.1111111111111111, \"#46039f\"], [0.2222222222222222, \"#7201a8\"], [0.3333333333333333, \"#9c179e\"], [0.4444444444444444, \"#bd3786\"], [0.5555555555555556, \"#d8576b\"], [0.6666666666666666, \"#ed7953\"], [0.7777777777777778, \"#fb9f3a\"], [0.8888888888888888, \"#fdca26\"], [1.0, \"#f0f921\"]]}, \"colorway\": [\"#636efa\", \"#EF553B\", \"#00cc96\", \"#ab63fa\", \"#FFA15A\", \"#19d3f3\", \"#FF6692\", \"#B6E880\", \"#FF97FF\", \"#FECB52\"], \"font\": {\"color\": \"#2a3f5f\"}, \"geo\": {\"bgcolor\": \"white\", \"lakecolor\": \"white\", \"landcolor\": \"#E5ECF6\", \"showlakes\": true, \"showland\": true, \"subunitcolor\": \"white\"}, \"hoverlabel\": {\"align\": \"left\"}, \"hovermode\": \"closest\", \"mapbox\": {\"style\": \"light\"}, \"paper_bgcolor\": \"white\", \"plot_bgcolor\": \"#E5ECF6\", \"polar\": {\"angularaxis\": {\"gridcolor\": \"white\", \"linecolor\": \"white\", \"ticks\": \"\"}, \"bgcolor\": \"#E5ECF6\", \"radialaxis\": {\"gridcolor\": \"white\", \"linecolor\": \"white\", \"ticks\": \"\"}}, \"scene\": {\"xaxis\": {\"backgroundcolor\": \"#E5ECF6\", \"gridcolor\": \"white\", \"gridwidth\": 2, \"linecolor\": \"white\", \"showbackground\": true, \"ticks\": \"\", \"zerolinecolor\": \"white\"}, \"yaxis\": {\"backgroundcolor\": \"#E5ECF6\", \"gridcolor\": \"white\", \"gridwidth\": 2, \"linecolor\": \"white\", \"showbackground\": true, \"ticks\": \"\", \"zerolinecolor\": \"white\"}, \"zaxis\": {\"backgroundcolor\": \"#E5ECF6\", \"gridcolor\": \"white\", \"gridwidth\": 2, \"linecolor\": \"white\", \"showbackground\": true, \"ticks\": \"\", \"zerolinecolor\": \"white\"}}, \"shapedefaults\": {\"line\": {\"color\": \"#2a3f5f\"}}, \"ternary\": {\"aaxis\": {\"gridcolor\": \"white\", \"linecolor\": \"white\", \"ticks\": \"\"}, \"baxis\": {\"gridcolor\": \"white\", \"linecolor\": \"white\", \"ticks\": \"\"}, \"bgcolor\": \"#E5ECF6\", \"caxis\": {\"gridcolor\": \"white\", \"linecolor\": \"white\", \"ticks\": \"\"}}, \"title\": {\"x\": 0.05}, \"xaxis\": {\"automargin\": true, \"gridcolor\": \"white\", \"linecolor\": \"white\", \"ticks\": \"\", \"title\": {\"standoff\": 15}, \"zerolinecolor\": \"white\", \"zerolinewidth\": 2}, \"yaxis\": {\"automargin\": true, \"gridcolor\": \"white\", \"linecolor\": \"white\", \"ticks\": \"\", \"title\": {\"standoff\": 15}, \"zerolinecolor\": \"white\", \"zerolinewidth\": 2}}}},                        {\"responsive\": true}                    ).then(function(){\n",
       "                            \n",
       "var gd = document.getElementById('29402237-d686-469b-9d5a-3656dea52ede');\n",
       "var x = new MutationObserver(function (mutations, observer) {{\n",
       "        var display = window.getComputedStyle(gd).display;\n",
       "        if (!display || display === 'none') {{\n",
       "            console.log([gd, 'removed!']);\n",
       "            Plotly.purge(gd);\n",
       "            observer.disconnect();\n",
       "        }}\n",
       "}});\n",
       "\n",
       "// Listen for the removal of the full notebook cells\n",
       "var notebookContainer = gd.closest('#notebook-container');\n",
       "if (notebookContainer) {{\n",
       "    x.observe(notebookContainer, {childList: true});\n",
       "}}\n",
       "\n",
       "// Listen for the clearing of the current output cell\n",
       "var outputEl = gd.closest('.output');\n",
       "if (outputEl) {{\n",
       "    x.observe(outputEl, {childList: true});\n",
       "}}\n",
       "\n",
       "                        })                };                });            </script>        </div>"
      ]
     },
     "metadata": {},
     "output_type": "display_data"
    }
   ],
   "source": [
    "#Interractive plot representing the history of the family with overweight according to the following tree structure :\n",
    "#Weight categories--> Gender --> family history with overweight\n",
    "fig = px.sunburst(df, path=['NObeyesdad', 'Gender', 'family_history_with_overweight'])\n",
    "fig.show()"
   ]
  },
  {
   "cell_type": "code",
   "execution_count": 360,
   "metadata": {},
   "outputs": [
    {
     "data": {
      "image/png": "[encoded data removed]",
      "text/plain": [
       "<Figure size 1080x720 with 5 Axes>"
      ]
     },
     "metadata": {
      "needs_background": "light"
     },
     "output_type": "display_data"
    }
   ],
   "source": [
    "columns = ['FCVC', 'NCP', 'CH2O', 'FAF', 'TUE']\n",
    "\n",
    "plt.figure(figsize=(15,10))\n",
    "ax1 = plt.subplot2grid(shape=(2,6), loc=(0,0), colspan=2)\n",
    "ax2 = plt.subplot2grid((2,6), (0,2), colspan=2)\n",
    "ax3 = plt.subplot2grid((2,6), (0,4), colspan=2)\n",
    "ax4 = plt.subplot2grid((2,6), (1,1), colspan=2)\n",
    "ax5 = plt.subplot2grid((2,6), (1,3), colspan=2)\n",
    "\n",
    "axes = [ax1, ax2, ax3, ax4, ax5]\n",
    "for i in range(len(axes)):\n",
    "    sns.countplot(df[columns[i]],ax=axes[i], palette=\"viridis\", edgecolor=\"black\") \n",
    "    \n",
    "plt.suptitle(\"Numerical Variables\", fontsize=20)\n",
    "plt.tight_layout(pad=5, w_pad=0.0, h_pad=1)\n",
    "plt.show()"
   ]
  },
  {
   "cell_type": "code",
   "execution_count": 361,
   "metadata": {},
   "outputs": [
    {
     "data": {
      "image/png": "[encoded data removed]",
      "text/plain": [
       "<Figure size 1080x720 with 9 Axes>"
      ]
     },
     "metadata": {
      "needs_background": "light"
     },
     "output_type": "display_data"
    }
   ],
   "source": [
    "columns = ['Gender', 'family_history_with_overweight', 'FAVC', 'CAEC', 'SMOKE',\n",
    "           'SCC', 'CALC', 'MTRANS', 'NObeyesdad']\n",
    "\n",
    "fig, ax = plt.subplots(3, 3, figsize=(15, 10))\n",
    "for col, subplot in zip(columns, ax.flatten()):\n",
    "    sns.countplot(df[col], ax=subplot)\n",
    "    \n",
    "    if col==\"MTRANS\":\n",
    "        chart = sns.countplot(df[col],ax=subplot, palette=\"viridis\", edgecolor=\"black\")\n",
    "        subplot.set_xticklabels(rotation=45, horizontalalignment='right', labels=chart.get_xticklabels())\n",
    "        #plt.xticks(rotation=45)        \n",
    "        subplot.yaxis.label.set_text(\"Count\")\n",
    "    elif col==\"NObeyesdad\":\n",
    "        chart = sns.countplot(df[col],ax=subplot, palette=\"viridis\", edgecolor=\"black\")\n",
    "        subplot.set_xticklabels(rotation=45, horizontalalignment='right', labels=chart.get_xticklabels())  \n",
    "        subplot.yaxis.label.set_text(\"Count\")\n",
    "    else:\n",
    "        sns.countplot(df[col],ax=subplot, palette=\"viridis\", edgecolor=\"black\")  \n",
    "        subplot.yaxis.label.set_text(\"Count\")\n",
    "        \n",
    "# show figure & plots\n",
    "fig.suptitle(\"Categorical Variables\", fontsize=20)\n",
    "plt.tight_layout(pad=5, w_pad=0.0, h_pad=1)\n",
    "plt.show()\n"
   ]
  },
  {
   "cell_type": "code",
   "execution_count": 362,
   "metadata": {},
   "outputs": [
    {
     "data": {
      "image/png": "[encoded data removed]",
      "text/plain": [
       "<Figure size 1080x720 with 1 Axes>"
      ]
     },
     "metadata": {
      "needs_background": "light"
     },
     "output_type": "display_data"
    }
   ],
   "source": [
    "plt.figure(figsize=(15,10))\n",
    "sns.distplot(df.Age, kde=True)\n",
    "plt.ylabel('Density')\n",
    "plt.title(\"Plot representing a histogram of the number of person per age and a curve of the density of probability\")\n",
    "plt.show()"
   ]
  },
  {
   "cell_type": "code",
   "execution_count": 479,
   "metadata": {},
   "outputs": [
    {
     "data": {
      "image/png": "[encoded data removed]",
      "text/plain": [
       "<Figure size 1152x288 with 2 Axes>"
      ]
     },
     "metadata": {
      "needs_background": "light"
     },
     "output_type": "display_data"
    }
   ],
   "source": [
    "plt.figure(figsize=(16, 4))\n",
    "plt.subplot(121)\n",
    "sns.boxplot(x = 'Weight', y = 'SCC', data = df).set_title(\"People control the amount of calories ingested everyday\")\n",
    "plt.subplot(122)\n",
    "sns.boxplot(x = 'Weight', y = 'CAEC', data = df).set_title(\"People eat between meals\")\n",
    "plt.show()"
   ]
  },
  {
   "cell_type": "code",
   "execution_count": 365,
   "metadata": {},
   "outputs": [
    {
     "data": {
      "image/png": "[encoded data removed]",
      "text/plain": [
       "<Figure size 1080x720 with 2 Axes>"
      ]
     },
     "metadata": {
      "needs_background": "light"
     },
     "output_type": "display_data"
    }
   ],
   "source": [
    "plt.figure(figsize=(15, 10))\n",
    "\n",
    "# correlation data matrix\n",
    "matrix = np.triu(df.corr())\n",
    "\n",
    "plt.title(\"Correlation Heatmap: Predictor Variables\")\n",
    "\n",
    "sns.heatmap(df.corr(), \n",
    "                 mask=matrix,\n",
    "                 annot = True,                 \n",
    "                 cmap=\"viridis\", \n",
    "                 vmin=-1, vmax=1,                 \n",
    "                 square=\"True\")\n",
    "\n",
    "\n",
    "plt.show()"
   ]
  },
  {
   "cell_type": "markdown",
   "metadata": {},
   "source": [
    "## PARTIE ML"
   ]
  },
  {
   "cell_type": "code",
   "execution_count": 456,
   "metadata": {},
   "outputs": [
    {
     "data": {
      "text/html": [
       "<div>\n",
       "<style scoped>\n",
       "    .dataframe tbody tr th:only-of-type {\n",
       "        vertical-align: middle;\n",
       "    }\n",
       "\n",
       "    .dataframe tbody tr th {\n",
       "        vertical-align: top;\n",
       "    }\n",
       "\n",
       "    .dataframe thead th {\n",
       "        text-align: right;\n",
       "    }\n",
       "</style>\n",
       "<table border=\"1\" class=\"dataframe\">\n",
       "  <thead>\n",
       "    <tr style=\"text-align: right;\">\n",
       "      <th></th>\n",
       "      <th>Gender</th>\n",
       "      <th>Age</th>\n",
       "      <th>Height</th>\n",
       "      <th>Weight</th>\n",
       "      <th>family_history_with_overweight</th>\n",
       "      <th>FAVC</th>\n",
       "      <th>FCVC</th>\n",
       "      <th>NCP</th>\n",
       "      <th>CAEC</th>\n",
       "      <th>SMOKE</th>\n",
       "      <th>CH2O</th>\n",
       "      <th>SCC</th>\n",
       "      <th>FAF</th>\n",
       "      <th>TUE</th>\n",
       "      <th>CALC</th>\n",
       "      <th>MTRANS</th>\n",
       "      <th>NObeyesdad</th>\n",
       "    </tr>\n",
       "  </thead>\n",
       "  <tbody>\n",
       "    <tr>\n",
       "      <th>0</th>\n",
       "      <td>Female</td>\n",
       "      <td>21.0</td>\n",
       "      <td>1.62</td>\n",
       "      <td>64.0</td>\n",
       "      <td>yes</td>\n",
       "      <td>no</td>\n",
       "      <td>2</td>\n",
       "      <td>3</td>\n",
       "      <td>Sometimes</td>\n",
       "      <td>no</td>\n",
       "      <td>2</td>\n",
       "      <td>no</td>\n",
       "      <td>0</td>\n",
       "      <td>1</td>\n",
       "      <td>no</td>\n",
       "      <td>Public_Transportation</td>\n",
       "      <td>Normal_Weight</td>\n",
       "    </tr>\n",
       "    <tr>\n",
       "      <th>1</th>\n",
       "      <td>Female</td>\n",
       "      <td>21.0</td>\n",
       "      <td>1.52</td>\n",
       "      <td>56.0</td>\n",
       "      <td>yes</td>\n",
       "      <td>no</td>\n",
       "      <td>3</td>\n",
       "      <td>3</td>\n",
       "      <td>Sometimes</td>\n",
       "      <td>yes</td>\n",
       "      <td>3</td>\n",
       "      <td>yes</td>\n",
       "      <td>3</td>\n",
       "      <td>0</td>\n",
       "      <td>Sometimes</td>\n",
       "      <td>Public_Transportation</td>\n",
       "      <td>Normal_Weight</td>\n",
       "    </tr>\n",
       "    <tr>\n",
       "      <th>2</th>\n",
       "      <td>Male</td>\n",
       "      <td>23.0</td>\n",
       "      <td>1.80</td>\n",
       "      <td>77.0</td>\n",
       "      <td>yes</td>\n",
       "      <td>no</td>\n",
       "      <td>2</td>\n",
       "      <td>3</td>\n",
       "      <td>Sometimes</td>\n",
       "      <td>no</td>\n",
       "      <td>2</td>\n",
       "      <td>no</td>\n",
       "      <td>2</td>\n",
       "      <td>1</td>\n",
       "      <td>Frequently</td>\n",
       "      <td>Public_Transportation</td>\n",
       "      <td>Normal_Weight</td>\n",
       "    </tr>\n",
       "    <tr>\n",
       "      <th>3</th>\n",
       "      <td>Male</td>\n",
       "      <td>27.0</td>\n",
       "      <td>1.80</td>\n",
       "      <td>87.0</td>\n",
       "      <td>no</td>\n",
       "      <td>no</td>\n",
       "      <td>3</td>\n",
       "      <td>3</td>\n",
       "      <td>Sometimes</td>\n",
       "      <td>no</td>\n",
       "      <td>2</td>\n",
       "      <td>no</td>\n",
       "      <td>2</td>\n",
       "      <td>0</td>\n",
       "      <td>Frequently</td>\n",
       "      <td>Walking</td>\n",
       "      <td>Overweight_Level_I</td>\n",
       "    </tr>\n",
       "    <tr>\n",
       "      <th>4</th>\n",
       "      <td>Male</td>\n",
       "      <td>22.0</td>\n",
       "      <td>1.78</td>\n",
       "      <td>89.8</td>\n",
       "      <td>no</td>\n",
       "      <td>no</td>\n",
       "      <td>2</td>\n",
       "      <td>1</td>\n",
       "      <td>Sometimes</td>\n",
       "      <td>no</td>\n",
       "      <td>2</td>\n",
       "      <td>no</td>\n",
       "      <td>0</td>\n",
       "      <td>0</td>\n",
       "      <td>Sometimes</td>\n",
       "      <td>Public_Transportation</td>\n",
       "      <td>Overweight_Level_II</td>\n",
       "    </tr>\n",
       "  </tbody>\n",
       "</table>\n",
       "</div>"
      ],
      "text/plain": [
       "   Gender   Age  Height  Weight family_history_with_overweight FAVC  FCVC  \\\n",
       "0  Female  21.0    1.62    64.0                            yes   no     2   \n",
       "1  Female  21.0    1.52    56.0                            yes   no     3   \n",
       "2    Male  23.0    1.80    77.0                            yes   no     2   \n",
       "3    Male  27.0    1.80    87.0                             no   no     3   \n",
       "4    Male  22.0    1.78    89.8                             no   no     2   \n",
       "\n",
       "   NCP       CAEC SMOKE  CH2O  SCC  FAF  TUE        CALC  \\\n",
       "0    3  Sometimes    no     2   no    0    1          no   \n",
       "1    3  Sometimes   yes     3  yes    3    0   Sometimes   \n",
       "2    3  Sometimes    no     2   no    2    1  Frequently   \n",
       "3    3  Sometimes    no     2   no    2    0  Frequently   \n",
       "4    1  Sometimes    no     2   no    0    0   Sometimes   \n",
       "\n",
       "                  MTRANS           NObeyesdad  \n",
       "0  Public_Transportation        Normal_Weight  \n",
       "1  Public_Transportation        Normal_Weight  \n",
       "2  Public_Transportation        Normal_Weight  \n",
       "3                Walking   Overweight_Level_I  \n",
       "4  Public_Transportation  Overweight_Level_II  "
      ]
     },
     "execution_count": 456,
     "metadata": {},
     "output_type": "execute_result"
    }
   ],
   "source": [
    "df_prep = df.copy()\n",
    "df_prep.head()"
   ]
  },
  {
   "cell_type": "code",
   "execution_count": 457,
   "metadata": {},
   "outputs": [
    {
     "data": {
      "text/html": [
       "<div>\n",
       "<style scoped>\n",
       "    .dataframe tbody tr th:only-of-type {\n",
       "        vertical-align: middle;\n",
       "    }\n",
       "\n",
       "    .dataframe tbody tr th {\n",
       "        vertical-align: top;\n",
       "    }\n",
       "\n",
       "    .dataframe thead th {\n",
       "        text-align: right;\n",
       "    }\n",
       "</style>\n",
       "<table border=\"1\" class=\"dataframe\">\n",
       "  <thead>\n",
       "    <tr style=\"text-align: right;\">\n",
       "      <th></th>\n",
       "      <th>Height</th>\n",
       "      <th>Weight</th>\n",
       "      <th>NObeyesdad</th>\n",
       "    </tr>\n",
       "  </thead>\n",
       "  <tbody>\n",
       "    <tr>\n",
       "      <th>0</th>\n",
       "      <td>1.62</td>\n",
       "      <td>64.0</td>\n",
       "      <td>Normal_Weight</td>\n",
       "    </tr>\n",
       "    <tr>\n",
       "      <th>1</th>\n",
       "      <td>1.52</td>\n",
       "      <td>56.0</td>\n",
       "      <td>Normal_Weight</td>\n",
       "    </tr>\n",
       "    <tr>\n",
       "      <th>2</th>\n",
       "      <td>1.80</td>\n",
       "      <td>77.0</td>\n",
       "      <td>Normal_Weight</td>\n",
       "    </tr>\n",
       "    <tr>\n",
       "      <th>3</th>\n",
       "      <td>1.80</td>\n",
       "      <td>87.0</td>\n",
       "      <td>Overweight_Level_I</td>\n",
       "    </tr>\n",
       "    <tr>\n",
       "      <th>4</th>\n",
       "      <td>1.78</td>\n",
       "      <td>89.8</td>\n",
       "      <td>Overweight_Level_II</td>\n",
       "    </tr>\n",
       "  </tbody>\n",
       "</table>\n",
       "</div>"
      ],
      "text/plain": [
       "   Height  Weight           NObeyesdad\n",
       "0    1.62    64.0        Normal_Weight\n",
       "1    1.52    56.0        Normal_Weight\n",
       "2    1.80    77.0        Normal_Weight\n",
       "3    1.80    87.0   Overweight_Level_I\n",
       "4    1.78    89.8  Overweight_Level_II"
      ]
     },
     "execution_count": 457,
     "metadata": {},
     "output_type": "execute_result"
    }
   ],
   "source": [
    "columns_to_remove = [\"Gender\",\"Age\",\"family_history_with_overweight\",\"FAVC\",\"FCVC\",\"NCP\",\"CAEC\",\"SMOKE\",\"CH2O\",\"SCC\",\"FAF\",\"TUE\",\"CALC\",\"MTRANS\"]\n",
    "df_prep = df_prep.drop(columns=columns_to_remove)\n",
    "df_prep.head()"
   ]
  },
  {
   "cell_type": "code",
   "execution_count": 458,
   "metadata": {},
   "outputs": [],
   "source": [
    "X = df_prep.drop(columns=[\"NObeyesdad\"])\n",
    "\n",
    "y = df_prep['NObeyesdad'] "
   ]
  },
  {
   "cell_type": "code",
   "execution_count": 459,
   "metadata": {},
   "outputs": [],
   "source": [
    "from sklearn.model_selection import train_test_split\n",
    "\n",
    "# Split dataset into training set and test set\n",
    "X_train, X_test, y_train, y_test = train_test_split(X, y, test_size=0.3, random_state=1)"
   ]
  },
  {
   "cell_type": "code",
   "execution_count": 460,
   "metadata": {},
   "outputs": [],
   "source": [
    "from sklearn.neighbors import KNeighborsClassifier\n",
    "from sklearn.tree import DecisionTreeClassifier\n",
    "from sklearn.svm import SVC\n",
    "from sklearn.ensemble import RandomForestClassifier\n",
    "from sklearn.metrics import classification_report\n",
    "from sklearn.naive_bayes import GaussianNB\n",
    "from sklearn import metrics\n",
    "from sklearn.preprocessing import StandardScaler\n",
    "\n",
    "ss = StandardScaler()\n",
    "X_train_scaled = ss.fit_transform(X_train)\n",
    "X_test_scaled = ss.transform(X_test)\n",
    "\n",
    "def run_models(X_train: pd.DataFrame , y_train: pd.DataFrame, X_test: pd.DataFrame, y_test: pd.DataFrame):\n",
    "    \n",
    "    models = [          \n",
    "          ('Random Forest', RandomForestClassifier(random_state=2000)),\n",
    "          ('Decision Tree', DecisionTreeClassifier()),                                                 \n",
    "          ('KNN', KNeighborsClassifier()),\n",
    "          ('SVM', SVC())\n",
    "        ]  \n",
    "    \n",
    "    for name, model in models:        \n",
    "        # unscaled data\n",
    "        clf = model.fit(X_train, y_train)\n",
    "        y_pred = clf.predict(X_test)\n",
    "        \n",
    "        # scaled data\n",
    "        clf_scaled = model.fit(X_train_scaled, y_train)\n",
    "        y_pred_scaled = clf_scaled.predict(X_test_scaled)\n",
    "        \n",
    "        accuracy = round(metrics.accuracy_score(y_test, y_pred),5)\n",
    "        scaled_accuracy = round(metrics.accuracy_score(y_test, y_pred_scaled),5)\n",
    "        \n",
    "        print(name + ':')        \n",
    "        print(\"---------------------------------------------------------------\")      \n",
    "        print(\"Accuracy:\", accuracy)\n",
    "        print(\"Accuracy with Scaled Data:\", scaled_accuracy)\n",
    "        print(\"\\nClassification Report:\\n\", metrics.classification_report(y_test, y_pred))      \n",
    "        print(\"---------------------------------------------------------------         \\n\")"
   ]
  },
  {
   "cell_type": "code",
   "execution_count": 461,
   "metadata": {
    "scrolled": false
   },
   "outputs": [
    {
     "name": "stdout",
     "output_type": "stream",
     "text": [
      "Random Forest:\n",
      "---------------------------------------------------------------\n",
      "Accuracy: 0.96057\n",
      "Accuracy with Scaled Data: 0.95899\n",
      "\n",
      "Classification Report:\n",
      "                      precision    recall  f1-score   support\n",
      "\n",
      "Insufficient_Weight       0.97      0.98      0.97        92\n",
      "      Normal_Weight       0.93      0.92      0.93        77\n",
      "     Obesity_Type_I       0.95      0.98      0.97       114\n",
      "    Obesity_Type_II       0.97      0.98      0.97        85\n",
      "   Obesity_Type_III       1.00      0.99      0.99        92\n",
      " Overweight_Level_I       0.94      0.93      0.94        89\n",
      "Overweight_Level_II       0.96      0.93      0.95        85\n",
      "\n",
      "           accuracy                           0.96       634\n",
      "          macro avg       0.96      0.96      0.96       634\n",
      "       weighted avg       0.96      0.96      0.96       634\n",
      "\n",
      "---------------------------------------------------------------         \n",
      "\n",
      "Decision Tree:\n",
      "---------------------------------------------------------------\n",
      "Accuracy: 0.93533\n",
      "Accuracy with Scaled Data: 0.94953\n",
      "\n",
      "Classification Report:\n",
      "                      precision    recall  f1-score   support\n",
      "\n",
      "Insufficient_Weight       0.98      0.98      0.98        92\n",
      "      Normal_Weight       0.89      0.87      0.88        77\n",
      "     Obesity_Type_I       0.95      0.95      0.95       114\n",
      "    Obesity_Type_II       0.96      0.94      0.95        85\n",
      "   Obesity_Type_III       0.98      0.99      0.98        92\n",
      " Overweight_Level_I       0.87      0.89      0.88        89\n",
      "Overweight_Level_II       0.91      0.92      0.91        85\n",
      "\n",
      "           accuracy                           0.94       634\n",
      "          macro avg       0.93      0.93      0.93       634\n",
      "       weighted avg       0.94      0.94      0.94       634\n",
      "\n",
      "---------------------------------------------------------------         \n",
      "\n",
      "KNN:\n",
      "---------------------------------------------------------------\n",
      "Accuracy: 0.79811\n",
      "Accuracy with Scaled Data: 0.94795\n",
      "\n",
      "Classification Report:\n",
      "                      precision    recall  f1-score   support\n",
      "\n",
      "Insufficient_Weight       0.98      0.96      0.97        92\n",
      "      Normal_Weight       0.77      0.88      0.82        77\n",
      "     Obesity_Type_I       0.76      0.74      0.75       114\n",
      "    Obesity_Type_II       0.75      0.84      0.79        85\n",
      "   Obesity_Type_III       0.90      0.85      0.87        92\n",
      " Overweight_Level_I       0.74      0.75      0.74        89\n",
      "Overweight_Level_II       0.69      0.59      0.64        85\n",
      "\n",
      "           accuracy                           0.80       634\n",
      "          macro avg       0.80      0.80      0.80       634\n",
      "       weighted avg       0.80      0.80      0.80       634\n",
      "\n",
      "---------------------------------------------------------------         \n",
      "\n",
      "SVM:\n",
      "---------------------------------------------------------------\n",
      "Accuracy: 0.56467\n",
      "Accuracy with Scaled Data: 0.92744\n",
      "\n",
      "Classification Report:\n",
      "                      precision    recall  f1-score   support\n",
      "\n",
      "Insufficient_Weight       0.79      0.86      0.82        92\n",
      "      Normal_Weight       0.57      0.51      0.54        77\n",
      "     Obesity_Type_I       0.48      0.40      0.44       114\n",
      "    Obesity_Type_II       0.57      0.80      0.67        85\n",
      "   Obesity_Type_III       0.85      0.38      0.53        92\n",
      " Overweight_Level_I       0.58      0.43      0.49        89\n",
      "Overweight_Level_II       0.37      0.62      0.46        85\n",
      "\n",
      "           accuracy                           0.56       634\n",
      "          macro avg       0.60      0.57      0.56       634\n",
      "       weighted avg       0.60      0.56      0.56       634\n",
      "\n",
      "---------------------------------------------------------------         \n",
      "\n"
     ]
    }
   ],
   "source": [
    "run_models(X_train, y_train, X_test, y_test)"
   ]
  },
  {
   "cell_type": "markdown",
   "metadata": {},
   "source": [
    "### Hyperparameters tuning"
   ]
  },
  {
   "cell_type": "code",
   "execution_count": 462,
   "metadata": {},
   "outputs": [],
   "source": [
    "from sklearn.model_selection import GridSearchCV\n",
    "\n",
    "def hyper_tune(name, clf, parameters, target_names=None): \n",
    "    \n",
    "    target_names = target_names\n",
    "    clf = clf\n",
    "    search = GridSearchCV(clf, parameters,verbose=True, n_jobs=15, cv=5)\n",
    "    search.fit(X_train_scaled,y_train)\n",
    "    y_pred_scaled = search.predict(X_test_scaled)\n",
    "    \n",
    "    print (\"Accuracy Score = %3.2f\" %(search.score(X_test_scaled,y_test)))\n",
    "    print (search.best_params_)\n",
    "    print(\"\\nClassification Report:\\n\", metrics.classification_report(y_test, y_pred_scaled, target_names=target_names))\n",
    "    "
   ]
  },
  {
   "cell_type": "markdown",
   "metadata": {},
   "source": [
    "#### KNN"
   ]
  },
  {
   "cell_type": "code",
   "execution_count": 463,
   "metadata": {},
   "outputs": [
    {
     "name": "stdout",
     "output_type": "stream",
     "text": [
      "Fitting 5 folds for each of 528 candidates, totalling 2640 fits\n",
      "Accuracy Score = 0.94\n",
      "{'algorithm': 'auto', 'metric': 'manhattan', 'n_neighbors': 6, 'p': 1, 'weights': 'distance'}\n",
      "\n",
      "Classification Report:\n",
      "                      precision    recall  f1-score   support\n",
      "\n",
      "Insufficient_Weight       0.96      0.98      0.97        92\n",
      "      Normal_Weight       0.92      0.87      0.89        77\n",
      "     Obesity_Type_I       0.95      0.96      0.95       114\n",
      "    Obesity_Type_II       0.94      0.95      0.95        85\n",
      "   Obesity_Type_III       0.99      0.98      0.98        92\n",
      " Overweight_Level_I       0.91      0.92      0.92        89\n",
      "Overweight_Level_II       0.94      0.94      0.94        85\n",
      "\n",
      "           accuracy                           0.94       634\n",
      "          macro avg       0.94      0.94      0.94       634\n",
      "       weighted avg       0.94      0.94      0.94       634\n",
      "\n"
     ]
    }
   ],
   "source": [
    "# Number of neighbors\n",
    "n_neighbors = [int(x) for x in range(4, 15)]\n",
    "# weights\n",
    "weights = ['uniform','distance']\n",
    "# distance metric\n",
    "metric = ['euclidean', 'manhattan', 'chebyshev']\n",
    "# computation algorithm\n",
    "algorithm = ['auto', 'ball_tree', 'kd_tree', 'brute']\n",
    "# power paramter\n",
    "p=[1,2]\n",
    "\n",
    "parameters = { 'n_neighbors': n_neighbors,\n",
    "              'weights':weights,\n",
    "              'metric':metric,\n",
    "              'p':p,\n",
    "              'algorithm': algorithm              \n",
    "               }\n",
    "\n",
    "hyper_tune('KNN', KNeighborsClassifier(), parameters)"
   ]
  },
  {
   "cell_type": "markdown",
   "metadata": {},
   "source": [
    "##### Random Forest"
   ]
  },
  {
   "cell_type": "code",
   "execution_count": 464,
   "metadata": {},
   "outputs": [
    {
     "name": "stdout",
     "output_type": "stream",
     "text": [
      "Fitting 5 folds for each of 342 candidates, totalling 1710 fits\n",
      "Accuracy Score = 0.96\n",
      "{'criterion': 'gini', 'max_depth': 40, 'n_estimators': 40}\n",
      "\n",
      "Classification Report:\n",
      "                      precision    recall  f1-score   support\n",
      "\n",
      "Insufficient_Weight       0.97      0.98      0.97        92\n",
      "      Normal_Weight       0.92      0.91      0.92        77\n",
      "     Obesity_Type_I       0.95      0.98      0.97       114\n",
      "    Obesity_Type_II       0.98      0.98      0.98        85\n",
      "   Obesity_Type_III       1.00      1.00      1.00        92\n",
      " Overweight_Level_I       0.91      0.92      0.92        89\n",
      "Overweight_Level_II       0.96      0.91      0.93        85\n",
      "\n",
      "           accuracy                           0.96       634\n",
      "          macro avg       0.96      0.95      0.95       634\n",
      "       weighted avg       0.96      0.96      0.96       634\n",
      "\n"
     ]
    }
   ],
   "source": [
    "# Number of trees in random forest\n",
    "n_estimators = [int(x) for x in range(10, 200,10)]\n",
    "# Criterion\n",
    "criterion = ['gini','entropy']\n",
    "# Number of features to consider at every split\n",
    "max_features = ['auto', 'sqrt', 'log2']\n",
    "# Maximum number of levels in tree\n",
    "max_depth = [int(x) for x in range(10, 100, 10)]\n",
    "# The minimum number of samples required to be at a leaf node\n",
    "min_sample_leaf = [int(x) for x in range(10, 100, 10)]\n",
    "\n",
    "parameters = { 'criterion':criterion,\n",
    "               'n_estimators': n_estimators,\n",
    "               #'min_samples_leaf': min_sample_leaf,     the accuracy is worse with min_samples_leaf instead of n_estimators\n",
    "               'max_depth':max_depth          \n",
    "               }\n",
    "\n",
    "\n",
    "hyper_tune('Random Forest', RandomForestClassifier(), parameters)"
   ]
  },
  {
   "cell_type": "markdown",
   "metadata": {},
   "source": [
    "##### Decision Tree"
   ]
  },
  {
   "cell_type": "code",
   "execution_count": 465,
   "metadata": {},
   "outputs": [
    {
     "name": "stdout",
     "output_type": "stream",
     "text": [
      "Fitting 5 folds for each of 162 candidates, totalling 810 fits\n",
      "Accuracy Score = 0.92\n",
      "{'criterion': 'entropy', 'max_depth': 10, 'min_samples_leaf': 10}\n",
      "\n",
      "Classification Report:\n",
      "                      precision    recall  f1-score   support\n",
      "\n",
      "Insufficient_Weight       0.99      0.97      0.98        92\n",
      "      Normal_Weight       0.88      0.83      0.85        77\n",
      "     Obesity_Type_I       0.95      0.91      0.93       114\n",
      "    Obesity_Type_II       0.95      0.96      0.96        85\n",
      "   Obesity_Type_III       1.00      0.98      0.99        92\n",
      " Overweight_Level_I       0.79      0.91      0.84        89\n",
      "Overweight_Level_II       0.88      0.85      0.86        85\n",
      "\n",
      "           accuracy                           0.92       634\n",
      "          macro avg       0.92      0.92      0.92       634\n",
      "       weighted avg       0.92      0.92      0.92       634\n",
      "\n"
     ]
    }
   ],
   "source": [
    "# Criterion\n",
    "criterion = ['gini','entropy']\n",
    "# Splitter\n",
    "splitter = ['best', 'random']\n",
    "# Maximum number of levels in tree\n",
    "max_depth = [int(x) for x in range(10, 100, 10)]\n",
    "# The minimum number of samples required to be at a leaf node\n",
    "min_sample_leaf = [int(x) for x in range(10, 100, 10)]\n",
    "\n",
    "parameters = {'max_depth': max_depth,\n",
    "              'min_samples_leaf': min_sample_leaf,\n",
    "              'criterion':criterion\n",
    "               }\n",
    "\n",
    "\n",
    "hyper_tune('Random Forest', DecisionTreeClassifier(), parameters)"
   ]
  },
  {
   "cell_type": "markdown",
   "metadata": {},
   "source": [
    "#### Feature Importance with Random Forest"
   ]
  },
  {
   "cell_type": "code",
   "execution_count": 466,
   "metadata": {},
   "outputs": [],
   "source": [
    "# Create Decision Tree classifer object with optimized parameters\n",
    "clf = RandomForestClassifier(criterion='gini',\n",
    "              n_estimators=30,\n",
    "              max_depth = 70)\n",
    "\n",
    "# Train Decision Tree Classifer\n",
    "clf = clf.fit(X_train_scaled,y_train)\n",
    "\n",
    "#Predict the response for test dataset\n",
    "y_pred = clf.predict(X_test_scaled)"
   ]
  },
  {
   "cell_type": "code",
   "execution_count": 467,
   "metadata": {},
   "outputs": [
    {
     "data": {
      "image/png": "[encoded data removed]",
      "text/plain": [
       "<Figure size 720x360 with 1 Axes>"
      ]
     },
     "metadata": {
      "needs_background": "light"
     },
     "output_type": "display_data"
    },
    {
     "name": "stdout",
     "output_type": "stream",
     "text": [
      "\n",
      "Best Features:\n",
      "Variable: Weight               Importance: 0.73\n",
      "Variable: Height               Importance: 0.27\n"
     ]
    }
   ],
   "source": [
    "feature_imp = pd.Series(clf.feature_importances_, index=X.columns).sort_values(ascending=False)\n",
    "\n",
    "fig = plt.figure(figsize=(10, 5))\n",
    "sns.barplot(x=feature_imp.index, y=feature_imp)\n",
    "plt.xticks(rotation=45, horizontalalignment='right')\n",
    "plt.tight_layout()\n",
    "plt.show()\n",
    "\n",
    "# create features list\n",
    "features_list = X.columns\n",
    "features_list = features_list.tolist()\n",
    "\n",
    "# Get numerical feature importances\n",
    "importances = list(clf.feature_importances_)\n",
    "# List of tuples with variable and importance\n",
    "feature_importances = [(feature, round(importance, 2)) for feature, importance in zip(features_list, importances)]\n",
    "\n",
    "# Sort the feature importances by most important first\n",
    "feature_importances = sorted(feature_importances, key = lambda x: x[1], reverse = True)\n",
    "# Print out the feature and importances \n",
    "print(\"\\nBest Features:\")\n",
    "display_top = [print('Variable: {:20} Importance: {}'.format(*pair)) for pair in feature_importances[:10]]"
   ]
  },
  {
   "cell_type": "markdown",
   "metadata": {},
   "source": [
    "## Exploring Two Category Targert Variable\n",
    "### Data Prep\n",
    "Here we try classifying by using only two categories Obesity or Not Obesity. "
   ]
  },
  {
   "cell_type": "code",
   "execution_count": 468,
   "metadata": {},
   "outputs": [],
   "source": [
    "# map values \n",
    "weight_cat = { 'Normal_Weight':0, 'Overweight_Level_I':0,\n",
    "               'Overweight_Level_II':0, 'Obesity_Type_I':1,\n",
    "               'Obesity_Type_II':1, 'Obesity_Type_III':1, 'Insufficient_Weight':0}\n",
    "\n",
    "# map values\n",
    "df_prep['Obesity'] = df_prep['NObeyesdad'].map(weight_cat)"
   ]
  },
  {
   "cell_type": "code",
   "execution_count": 469,
   "metadata": {},
   "outputs": [],
   "source": [
    "# Features\n",
    "X = df_prep.drop(columns=[\"NObeyesdad\",\"Obesity\"])\n",
    "\n",
    "# Target variable\n",
    "y = df_prep['Obesity'] "
   ]
  },
  {
   "cell_type": "code",
   "execution_count": 470,
   "metadata": {},
   "outputs": [],
   "source": [
    "# Split dataset into training set and test set\n",
    "X_train, X_test, y_train, y_test = train_test_split(X, y, test_size=0.3, random_state=1) # 70% training and 30% test\n",
    "\n",
    "# Scaled version of X train and X test\n",
    "ss = StandardScaler()\n",
    "X_train_scaled = ss.fit_transform(X_train)\n",
    "X_test_scaled = ss.transform(X_test)"
   ]
  },
  {
   "cell_type": "markdown",
   "metadata": {},
   "source": [
    "### Random Forest"
   ]
  },
  {
   "cell_type": "code",
   "execution_count": 471,
   "metadata": {},
   "outputs": [
    {
     "name": "stdout",
     "output_type": "stream",
     "text": [
      "Fitting 5 folds for each of 342 candidates, totalling 1710 fits\n",
      "Accuracy Score = 1.00\n",
      "{'criterion': 'gini', 'max_depth': 30, 'n_estimators': 40}\n",
      "\n",
      "Classification Report:\n",
      "               precision    recall  f1-score   support\n",
      "\n",
      "   Not Obese       0.99      1.00      1.00       343\n",
      "       Obese       1.00      0.99      0.99       291\n",
      "\n",
      "    accuracy                           1.00       634\n",
      "   macro avg       1.00      1.00      1.00       634\n",
      "weighted avg       1.00      1.00      1.00       634\n",
      "\n"
     ]
    }
   ],
   "source": [
    "n_estimators = [int(x) for x in range(10, 200,10)]\n",
    "\n",
    "criterion = ['gini','entropy']\n",
    "# Number of features to consider at every split\n",
    "max_features = ['auto', 'sqrt', 'log2']\n",
    "# Maximum number of levels in tree\n",
    "max_depth = [int(x) for x in range(10, 100, 10)]\n",
    "\n",
    "target_names = ['Not Obese', 'Obese']\n",
    "\n",
    "parameters = { 'criterion':criterion,\n",
    "               'n_estimators': n_estimators,\n",
    "              'max_depth':max_depth\n",
    "               }\n",
    "\n",
    "hyper_tune('Random Forest', RandomForestClassifier(), parameters, target_names=target_names)"
   ]
  },
  {
   "cell_type": "markdown",
   "metadata": {},
   "source": [
    "### Feature Importance with Random Forest"
   ]
  },
  {
   "cell_type": "code",
   "execution_count": 472,
   "metadata": {},
   "outputs": [],
   "source": [
    "clf = RandomForestClassifier(criterion='gini',\n",
    "               n_estimators=150,\n",
    "              max_depth = 20)\n",
    "\n",
    "clf = clf.fit(X_train_scaled,y_train)\n",
    "\n",
    "y_pred = clf.predict(X_test_scaled)"
   ]
  },
  {
   "cell_type": "code",
   "execution_count": 473,
   "metadata": {},
   "outputs": [
    {
     "data": {
      "image/png": "[encoded data removed]",
      "text/plain": [
       "<Figure size 864x360 with 1 Axes>"
      ]
     },
     "metadata": {
      "needs_background": "light"
     },
     "output_type": "display_data"
    },
    {
     "name": "stdout",
     "output_type": "stream",
     "text": [
      "\n",
      "Best Features:\n",
      "Variable: Weight               Importance: 0.85\n",
      "Variable: Height               Importance: 0.15\n"
     ]
    }
   ],
   "source": [
    "feature_imp = pd.Series(clf.feature_importances_, index=X.columns).sort_values(ascending=False)\n",
    "\n",
    "fig = plt.figure(figsize=(12, 5))\n",
    "sns.barplot(x=feature_imp.index, y=feature_imp)\n",
    "plt.xticks(rotation=45, horizontalalignment='right')\n",
    "plt.tight_layout()\n",
    "plt.show()\n",
    "\n",
    "features_list = X.columns\n",
    "features_list = features_list.tolist()\n",
    "importances = list(clf.feature_importances_)\n",
    "\n",
    "feature_importances = [(feature, round(importance, 2)) for feature, importance in zip(features_list, importances)]\n",
    "\n",
    "# Sort the feature importances by most important first\n",
    "feature_importances = sorted(feature_importances, key = lambda x: x[1], reverse = True)\n",
    "print(\"\\nBest Features:\")\n",
    "display_top = [print('Variable: {:20} Importance: {}'.format(*pair)) for pair in feature_importances[:10]]"
   ]
  }
 ],
 "metadata": {
  "kernelspec": {
   "display_name": "Python 3",
   "language": "python",
   "name": "python3"
  },
  "language_info": {
   "codemirror_mode": {
    "name": "ipython",
    "version": 3
   },
   "file_extension": ".py",
   "mimetype": "text/x-python",
   "name": "python",
   "nbconvert_exporter": "python",
   "pygments_lexer": "ipython3",
   "version": "3.7.3"
  }
 },
 "nbformat": 4,
 "nbformat_minor": 2
}
